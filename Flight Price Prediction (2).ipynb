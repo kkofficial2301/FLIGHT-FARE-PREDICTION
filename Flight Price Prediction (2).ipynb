{
 "cells": [
  {
   "cell_type": "markdown",
   "id": "e055cbb1-20cc-4bf3-8ce6-601ca4bfbac2",
   "metadata": {},
   "source": [
    "# Project - 1       "
   ]
  },
  {
   "cell_type": "markdown",
   "id": "138bf7e8-1aa7-4ca5-9bbb-1e177e7de86a",
   "metadata": {},
   "source": [
    "# PRCP-1025-FlightPricePrediction"
   ]
  },
  {
   "cell_type": "markdown",
   "id": "879e482c-74f6-4e0a-9817-6e669fb29284",
   "metadata": {},
   "source": [
    "### Problem Defination"
   ]
  },
  {
   "cell_type": "raw",
   "id": "04a9341d-326d-4e2a-a63c-ec659c7ce51e",
   "metadata": {},
   "source": [
    "Flight ticket prices can be something hard to guess, today we might see a price, check\n",
    "out the price of the same flight tomorrow, it will be a different story. We might have often\n",
    "heard travelers saying that flight ticket prices are so unpredictable. That’s why we will\n",
    "try to use machine learning to solve this problem. This can help airlines by predicting\n",
    "what prices they can maintain."
   ]
  },
  {
   "cell_type": "markdown",
   "id": "a3f4eb31-7f1d-4420-861e-61182b785396",
   "metadata": {},
   "source": [
    "## Attribute Information\n",
    "**The various features of the dataset explained below**\n",
    "\n",
    "1. Airline: So this column will have all the types of airlines like Indigo, Jet Airways,\n",
    "Air India, and many more.\n",
    "2. Date_of_Journey: This column will let us know about the date on which the\n",
    "passenger’s journey will start.\n",
    "3. Source: This column holds the name of the place from where the passenger’s\n",
    "journey will start.\n",
    "4. Destination: This column holds the name of the place to where passengers\n",
    "wanted to travel.\n",
    "5. Route: Here we can know about what the route is through which passengers\n",
    "have opted to travel from his/her source to their destination.\n",
    "6. Arrival_Time: Arrival time is when the passenger will reach his/her destination.\n",
    "\n",
    "7. Duration: Duration is the whole period that a flight will take to complete its\n",
    "journey from source to destination.\n",
    "8. Total_Stops: This will let us know in how many places flights will stop there for\n",
    "the flight in the whole journey.\n",
    "9. Additional_Info: In this column, we will get information about food, kind of food,\n",
    "and other amenities.\n",
    "10. Price: Price of the flight for a complete journey including all the expenses\n",
    "before onboarding."
   ]
  },
  {
   "cell_type": "markdown",
   "id": "a6646e7d-2842-47e2-9040-21e97ad6126c",
   "metadata": {},
   "source": [
    "## Business Goal\n",
    "**The goal is to build a regression model to predict the fare of flights based on various features and analysis. Which will help the customers make informed decisions and airlines optimize pricing strategies.**"
   ]
  },
  {
   "cell_type": "markdown",
   "id": "403c6315-9a69-4fbc-adce-c564bc8f0c78",
   "metadata": {},
   "source": [
    "## Data Exploration"
   ]
  },
  {
   "cell_type": "code",
   "execution_count": 9,
   "id": "89eac825-e240-4dcd-b9fc-aa5032f7857c",
   "metadata": {},
   "outputs": [],
   "source": [
    "## Importing Libraries\n",
    "import numpy as np\n",
    "import pandas as pd\n",
    "import matplotlib.pyplot as plt\n",
    "import seaborn as sns\n",
    "%matplotlib inline\n",
    "\n",
    "import warnings\n",
    "warnings.filterwarnings('ignore')"
   ]
  },
  {
   "cell_type": "code",
   "execution_count": 11,
   "id": "5662ab4c-0aea-4bb5-b334-c87446afc8cb",
   "metadata": {},
   "outputs": [],
   "source": [
    "## Loading dataset\n",
    "data=pd.read_csv('Flight_Fare.csv')"
   ]
  },
  {
   "cell_type": "code",
   "execution_count": 13,
   "id": "d9c5bc3e-0426-4032-8e51-239358c2779f",
   "metadata": {},
   "outputs": [
    {
     "data": {
      "text/html": [
       "<div>\n",
       "<style scoped>\n",
       "    .dataframe tbody tr th:only-of-type {\n",
       "        vertical-align: middle;\n",
       "    }\n",
       "\n",
       "    .dataframe tbody tr th {\n",
       "        vertical-align: top;\n",
       "    }\n",
       "\n",
       "    .dataframe thead th {\n",
       "        text-align: right;\n",
       "    }\n",
       "</style>\n",
       "<table border=\"1\" class=\"dataframe\">\n",
       "  <thead>\n",
       "    <tr style=\"text-align: right;\">\n",
       "      <th></th>\n",
       "      <th>Airline</th>\n",
       "      <th>Date_of_Journey</th>\n",
       "      <th>Source</th>\n",
       "      <th>Destination</th>\n",
       "      <th>Route</th>\n",
       "      <th>Dep_Time</th>\n",
       "      <th>Arrival_Time</th>\n",
       "      <th>Duration</th>\n",
       "      <th>Total_Stops</th>\n",
       "      <th>Additional_Info</th>\n",
       "      <th>Price</th>\n",
       "    </tr>\n",
       "  </thead>\n",
       "  <tbody>\n",
       "    <tr>\n",
       "      <th>0</th>\n",
       "      <td>IndiGo</td>\n",
       "      <td>24/03/2019</td>\n",
       "      <td>Banglore</td>\n",
       "      <td>New Delhi</td>\n",
       "      <td>BLR ? DEL</td>\n",
       "      <td>22:20</td>\n",
       "      <td>01:10 22 Mar</td>\n",
       "      <td>2h 50m</td>\n",
       "      <td>non-stop</td>\n",
       "      <td>No info</td>\n",
       "      <td>3897</td>\n",
       "    </tr>\n",
       "    <tr>\n",
       "      <th>1</th>\n",
       "      <td>Air India</td>\n",
       "      <td>1/05/2019</td>\n",
       "      <td>Kolkata</td>\n",
       "      <td>Banglore</td>\n",
       "      <td>CCU ? IXR ? BBI ? BLR</td>\n",
       "      <td>05:50</td>\n",
       "      <td>13:15</td>\n",
       "      <td>7h 25m</td>\n",
       "      <td>2 stops</td>\n",
       "      <td>No info</td>\n",
       "      <td>7662</td>\n",
       "    </tr>\n",
       "    <tr>\n",
       "      <th>2</th>\n",
       "      <td>Jet Airways</td>\n",
       "      <td>9/06/2019</td>\n",
       "      <td>Delhi</td>\n",
       "      <td>Cochin</td>\n",
       "      <td>DEL ? LKO ? BOM ? COK</td>\n",
       "      <td>09:25</td>\n",
       "      <td>04:25 10 Jun</td>\n",
       "      <td>19h</td>\n",
       "      <td>2 stops</td>\n",
       "      <td>No info</td>\n",
       "      <td>13882</td>\n",
       "    </tr>\n",
       "    <tr>\n",
       "      <th>3</th>\n",
       "      <td>IndiGo</td>\n",
       "      <td>12/05/2019</td>\n",
       "      <td>Kolkata</td>\n",
       "      <td>Banglore</td>\n",
       "      <td>CCU ? NAG ? BLR</td>\n",
       "      <td>18:05</td>\n",
       "      <td>23:30</td>\n",
       "      <td>5h 25m</td>\n",
       "      <td>1 stop</td>\n",
       "      <td>No info</td>\n",
       "      <td>6218</td>\n",
       "    </tr>\n",
       "    <tr>\n",
       "      <th>4</th>\n",
       "      <td>IndiGo</td>\n",
       "      <td>01/03/2019</td>\n",
       "      <td>Banglore</td>\n",
       "      <td>New Delhi</td>\n",
       "      <td>BLR ? NAG ? DEL</td>\n",
       "      <td>16:50</td>\n",
       "      <td>21:35</td>\n",
       "      <td>4h 45m</td>\n",
       "      <td>1 stop</td>\n",
       "      <td>No info</td>\n",
       "      <td>13302</td>\n",
       "    </tr>\n",
       "    <tr>\n",
       "      <th>...</th>\n",
       "      <td>...</td>\n",
       "      <td>...</td>\n",
       "      <td>...</td>\n",
       "      <td>...</td>\n",
       "      <td>...</td>\n",
       "      <td>...</td>\n",
       "      <td>...</td>\n",
       "      <td>...</td>\n",
       "      <td>...</td>\n",
       "      <td>...</td>\n",
       "      <td>...</td>\n",
       "    </tr>\n",
       "    <tr>\n",
       "      <th>10678</th>\n",
       "      <td>Air Asia</td>\n",
       "      <td>9/04/2019</td>\n",
       "      <td>Kolkata</td>\n",
       "      <td>Banglore</td>\n",
       "      <td>CCU ? BLR</td>\n",
       "      <td>19:55</td>\n",
       "      <td>22:25</td>\n",
       "      <td>2h 30m</td>\n",
       "      <td>non-stop</td>\n",
       "      <td>No info</td>\n",
       "      <td>4107</td>\n",
       "    </tr>\n",
       "    <tr>\n",
       "      <th>10679</th>\n",
       "      <td>Air India</td>\n",
       "      <td>27/04/2019</td>\n",
       "      <td>Kolkata</td>\n",
       "      <td>Banglore</td>\n",
       "      <td>CCU ? BLR</td>\n",
       "      <td>20:45</td>\n",
       "      <td>23:20</td>\n",
       "      <td>2h 35m</td>\n",
       "      <td>non-stop</td>\n",
       "      <td>No info</td>\n",
       "      <td>4145</td>\n",
       "    </tr>\n",
       "    <tr>\n",
       "      <th>10680</th>\n",
       "      <td>Jet Airways</td>\n",
       "      <td>27/04/2019</td>\n",
       "      <td>Banglore</td>\n",
       "      <td>Delhi</td>\n",
       "      <td>BLR ? DEL</td>\n",
       "      <td>08:20</td>\n",
       "      <td>11:20</td>\n",
       "      <td>3h</td>\n",
       "      <td>non-stop</td>\n",
       "      <td>No info</td>\n",
       "      <td>7229</td>\n",
       "    </tr>\n",
       "    <tr>\n",
       "      <th>10681</th>\n",
       "      <td>Vistara</td>\n",
       "      <td>01/03/2019</td>\n",
       "      <td>Banglore</td>\n",
       "      <td>New Delhi</td>\n",
       "      <td>BLR ? DEL</td>\n",
       "      <td>11:30</td>\n",
       "      <td>14:10</td>\n",
       "      <td>2h 40m</td>\n",
       "      <td>non-stop</td>\n",
       "      <td>No info</td>\n",
       "      <td>12648</td>\n",
       "    </tr>\n",
       "    <tr>\n",
       "      <th>10682</th>\n",
       "      <td>Air India</td>\n",
       "      <td>9/05/2019</td>\n",
       "      <td>Delhi</td>\n",
       "      <td>Cochin</td>\n",
       "      <td>DEL ? GOI ? BOM ? COK</td>\n",
       "      <td>10:55</td>\n",
       "      <td>19:15</td>\n",
       "      <td>8h 20m</td>\n",
       "      <td>2 stops</td>\n",
       "      <td>No info</td>\n",
       "      <td>11753</td>\n",
       "    </tr>\n",
       "  </tbody>\n",
       "</table>\n",
       "<p>10683 rows × 11 columns</p>\n",
       "</div>"
      ],
      "text/plain": [
       "           Airline Date_of_Journey    Source Destination  \\\n",
       "0           IndiGo      24/03/2019  Banglore   New Delhi   \n",
       "1        Air India       1/05/2019   Kolkata    Banglore   \n",
       "2      Jet Airways       9/06/2019     Delhi      Cochin   \n",
       "3           IndiGo      12/05/2019   Kolkata    Banglore   \n",
       "4           IndiGo      01/03/2019  Banglore   New Delhi   \n",
       "...            ...             ...       ...         ...   \n",
       "10678     Air Asia       9/04/2019   Kolkata    Banglore   \n",
       "10679    Air India      27/04/2019   Kolkata    Banglore   \n",
       "10680  Jet Airways      27/04/2019  Banglore       Delhi   \n",
       "10681      Vistara      01/03/2019  Banglore   New Delhi   \n",
       "10682    Air India       9/05/2019     Delhi      Cochin   \n",
       "\n",
       "                       Route Dep_Time  Arrival_Time Duration Total_Stops  \\\n",
       "0                  BLR ? DEL    22:20  01:10 22 Mar   2h 50m    non-stop   \n",
       "1      CCU ? IXR ? BBI ? BLR    05:50         13:15   7h 25m     2 stops   \n",
       "2      DEL ? LKO ? BOM ? COK    09:25  04:25 10 Jun      19h     2 stops   \n",
       "3            CCU ? NAG ? BLR    18:05         23:30   5h 25m      1 stop   \n",
       "4            BLR ? NAG ? DEL    16:50         21:35   4h 45m      1 stop   \n",
       "...                      ...      ...           ...      ...         ...   \n",
       "10678              CCU ? BLR    19:55         22:25   2h 30m    non-stop   \n",
       "10679              CCU ? BLR    20:45         23:20   2h 35m    non-stop   \n",
       "10680              BLR ? DEL    08:20         11:20       3h    non-stop   \n",
       "10681              BLR ? DEL    11:30         14:10   2h 40m    non-stop   \n",
       "10682  DEL ? GOI ? BOM ? COK    10:55         19:15   8h 20m     2 stops   \n",
       "\n",
       "      Additional_Info  Price  \n",
       "0             No info   3897  \n",
       "1             No info   7662  \n",
       "2             No info  13882  \n",
       "3             No info   6218  \n",
       "4             No info  13302  \n",
       "...               ...    ...  \n",
       "10678         No info   4107  \n",
       "10679         No info   4145  \n",
       "10680         No info   7229  \n",
       "10681         No info  12648  \n",
       "10682         No info  11753  \n",
       "\n",
       "[10683 rows x 11 columns]"
      ]
     },
     "execution_count": 13,
     "metadata": {},
     "output_type": "execute_result"
    }
   ],
   "source": [
    "data"
   ]
  },
  {
   "cell_type": "code",
   "execution_count": null,
   "id": "68b1ebb4-1f76-4449-9105-ec000fdab47c",
   "metadata": {},
   "outputs": [],
   "source": [
    "pd.set_option('display.max_columns',None) ## Used to view all columns"
   ]
  },
  {
   "cell_type": "markdown",
   "id": "38c32d0e-4be4-45df-a295-2e03c51705e7",
   "metadata": {},
   "source": [
    "## Profile Report"
   ]
  },
  {
   "cell_type": "code",
   "execution_count": null,
   "id": "4c0a3ccd-f0b6-4c4e-a778-805879c45f3c",
   "metadata": {},
   "outputs": [],
   "source": [
    "## This profiling report will provide complete info about data\n",
    "from ydata_profiling import ProfileReport\n",
    "Profile = ProfileReport(data, title = \"Flight Price Report\")\n",
    "Profile.to_notebook_iframe()"
   ]
  },
  {
   "cell_type": "markdown",
   "id": "f8b8ae7c-f57f-4ac7-9138-3445c199a807",
   "metadata": {},
   "source": [
    "## Basic Checks"
   ]
  },
  {
   "cell_type": "code",
   "execution_count": 17,
   "id": "111f53f2-ae97-4c1e-b35a-aa07473a1144",
   "metadata": {},
   "outputs": [
    {
     "data": {
      "text/html": [
       "<div>\n",
       "<style scoped>\n",
       "    .dataframe tbody tr th:only-of-type {\n",
       "        vertical-align: middle;\n",
       "    }\n",
       "\n",
       "    .dataframe tbody tr th {\n",
       "        vertical-align: top;\n",
       "    }\n",
       "\n",
       "    .dataframe thead th {\n",
       "        text-align: right;\n",
       "    }\n",
       "</style>\n",
       "<table border=\"1\" class=\"dataframe\">\n",
       "  <thead>\n",
       "    <tr style=\"text-align: right;\">\n",
       "      <th></th>\n",
       "      <th>Airline</th>\n",
       "      <th>Date_of_Journey</th>\n",
       "      <th>Source</th>\n",
       "      <th>Destination</th>\n",
       "      <th>Route</th>\n",
       "      <th>Dep_Time</th>\n",
       "      <th>Arrival_Time</th>\n",
       "      <th>Duration</th>\n",
       "      <th>Total_Stops</th>\n",
       "      <th>Additional_Info</th>\n",
       "      <th>Price</th>\n",
       "    </tr>\n",
       "  </thead>\n",
       "  <tbody>\n",
       "    <tr>\n",
       "      <th>0</th>\n",
       "      <td>IndiGo</td>\n",
       "      <td>24/03/2019</td>\n",
       "      <td>Banglore</td>\n",
       "      <td>New Delhi</td>\n",
       "      <td>BLR ? DEL</td>\n",
       "      <td>22:20</td>\n",
       "      <td>01:10 22 Mar</td>\n",
       "      <td>2h 50m</td>\n",
       "      <td>non-stop</td>\n",
       "      <td>No info</td>\n",
       "      <td>3897</td>\n",
       "    </tr>\n",
       "    <tr>\n",
       "      <th>1</th>\n",
       "      <td>Air India</td>\n",
       "      <td>1/05/2019</td>\n",
       "      <td>Kolkata</td>\n",
       "      <td>Banglore</td>\n",
       "      <td>CCU ? IXR ? BBI ? BLR</td>\n",
       "      <td>05:50</td>\n",
       "      <td>13:15</td>\n",
       "      <td>7h 25m</td>\n",
       "      <td>2 stops</td>\n",
       "      <td>No info</td>\n",
       "      <td>7662</td>\n",
       "    </tr>\n",
       "    <tr>\n",
       "      <th>2</th>\n",
       "      <td>Jet Airways</td>\n",
       "      <td>9/06/2019</td>\n",
       "      <td>Delhi</td>\n",
       "      <td>Cochin</td>\n",
       "      <td>DEL ? LKO ? BOM ? COK</td>\n",
       "      <td>09:25</td>\n",
       "      <td>04:25 10 Jun</td>\n",
       "      <td>19h</td>\n",
       "      <td>2 stops</td>\n",
       "      <td>No info</td>\n",
       "      <td>13882</td>\n",
       "    </tr>\n",
       "    <tr>\n",
       "      <th>3</th>\n",
       "      <td>IndiGo</td>\n",
       "      <td>12/05/2019</td>\n",
       "      <td>Kolkata</td>\n",
       "      <td>Banglore</td>\n",
       "      <td>CCU ? NAG ? BLR</td>\n",
       "      <td>18:05</td>\n",
       "      <td>23:30</td>\n",
       "      <td>5h 25m</td>\n",
       "      <td>1 stop</td>\n",
       "      <td>No info</td>\n",
       "      <td>6218</td>\n",
       "    </tr>\n",
       "    <tr>\n",
       "      <th>4</th>\n",
       "      <td>IndiGo</td>\n",
       "      <td>01/03/2019</td>\n",
       "      <td>Banglore</td>\n",
       "      <td>New Delhi</td>\n",
       "      <td>BLR ? NAG ? DEL</td>\n",
       "      <td>16:50</td>\n",
       "      <td>21:35</td>\n",
       "      <td>4h 45m</td>\n",
       "      <td>1 stop</td>\n",
       "      <td>No info</td>\n",
       "      <td>13302</td>\n",
       "    </tr>\n",
       "    <tr>\n",
       "      <th>...</th>\n",
       "      <td>...</td>\n",
       "      <td>...</td>\n",
       "      <td>...</td>\n",
       "      <td>...</td>\n",
       "      <td>...</td>\n",
       "      <td>...</td>\n",
       "      <td>...</td>\n",
       "      <td>...</td>\n",
       "      <td>...</td>\n",
       "      <td>...</td>\n",
       "      <td>...</td>\n",
       "    </tr>\n",
       "    <tr>\n",
       "      <th>10678</th>\n",
       "      <td>Air Asia</td>\n",
       "      <td>9/04/2019</td>\n",
       "      <td>Kolkata</td>\n",
       "      <td>Banglore</td>\n",
       "      <td>CCU ? BLR</td>\n",
       "      <td>19:55</td>\n",
       "      <td>22:25</td>\n",
       "      <td>2h 30m</td>\n",
       "      <td>non-stop</td>\n",
       "      <td>No info</td>\n",
       "      <td>4107</td>\n",
       "    </tr>\n",
       "    <tr>\n",
       "      <th>10679</th>\n",
       "      <td>Air India</td>\n",
       "      <td>27/04/2019</td>\n",
       "      <td>Kolkata</td>\n",
       "      <td>Banglore</td>\n",
       "      <td>CCU ? BLR</td>\n",
       "      <td>20:45</td>\n",
       "      <td>23:20</td>\n",
       "      <td>2h 35m</td>\n",
       "      <td>non-stop</td>\n",
       "      <td>No info</td>\n",
       "      <td>4145</td>\n",
       "    </tr>\n",
       "    <tr>\n",
       "      <th>10680</th>\n",
       "      <td>Jet Airways</td>\n",
       "      <td>27/04/2019</td>\n",
       "      <td>Banglore</td>\n",
       "      <td>Delhi</td>\n",
       "      <td>BLR ? DEL</td>\n",
       "      <td>08:20</td>\n",
       "      <td>11:20</td>\n",
       "      <td>3h</td>\n",
       "      <td>non-stop</td>\n",
       "      <td>No info</td>\n",
       "      <td>7229</td>\n",
       "    </tr>\n",
       "    <tr>\n",
       "      <th>10681</th>\n",
       "      <td>Vistara</td>\n",
       "      <td>01/03/2019</td>\n",
       "      <td>Banglore</td>\n",
       "      <td>New Delhi</td>\n",
       "      <td>BLR ? DEL</td>\n",
       "      <td>11:30</td>\n",
       "      <td>14:10</td>\n",
       "      <td>2h 40m</td>\n",
       "      <td>non-stop</td>\n",
       "      <td>No info</td>\n",
       "      <td>12648</td>\n",
       "    </tr>\n",
       "    <tr>\n",
       "      <th>10682</th>\n",
       "      <td>Air India</td>\n",
       "      <td>9/05/2019</td>\n",
       "      <td>Delhi</td>\n",
       "      <td>Cochin</td>\n",
       "      <td>DEL ? GOI ? BOM ? COK</td>\n",
       "      <td>10:55</td>\n",
       "      <td>19:15</td>\n",
       "      <td>8h 20m</td>\n",
       "      <td>2 stops</td>\n",
       "      <td>No info</td>\n",
       "      <td>11753</td>\n",
       "    </tr>\n",
       "  </tbody>\n",
       "</table>\n",
       "<p>10683 rows × 11 columns</p>\n",
       "</div>"
      ],
      "text/plain": [
       "           Airline Date_of_Journey    Source Destination  \\\n",
       "0           IndiGo      24/03/2019  Banglore   New Delhi   \n",
       "1        Air India       1/05/2019   Kolkata    Banglore   \n",
       "2      Jet Airways       9/06/2019     Delhi      Cochin   \n",
       "3           IndiGo      12/05/2019   Kolkata    Banglore   \n",
       "4           IndiGo      01/03/2019  Banglore   New Delhi   \n",
       "...            ...             ...       ...         ...   \n",
       "10678     Air Asia       9/04/2019   Kolkata    Banglore   \n",
       "10679    Air India      27/04/2019   Kolkata    Banglore   \n",
       "10680  Jet Airways      27/04/2019  Banglore       Delhi   \n",
       "10681      Vistara      01/03/2019  Banglore   New Delhi   \n",
       "10682    Air India       9/05/2019     Delhi      Cochin   \n",
       "\n",
       "                       Route Dep_Time  Arrival_Time Duration Total_Stops  \\\n",
       "0                  BLR ? DEL    22:20  01:10 22 Mar   2h 50m    non-stop   \n",
       "1      CCU ? IXR ? BBI ? BLR    05:50         13:15   7h 25m     2 stops   \n",
       "2      DEL ? LKO ? BOM ? COK    09:25  04:25 10 Jun      19h     2 stops   \n",
       "3            CCU ? NAG ? BLR    18:05         23:30   5h 25m      1 stop   \n",
       "4            BLR ? NAG ? DEL    16:50         21:35   4h 45m      1 stop   \n",
       "...                      ...      ...           ...      ...         ...   \n",
       "10678              CCU ? BLR    19:55         22:25   2h 30m    non-stop   \n",
       "10679              CCU ? BLR    20:45         23:20   2h 35m    non-stop   \n",
       "10680              BLR ? DEL    08:20         11:20       3h    non-stop   \n",
       "10681              BLR ? DEL    11:30         14:10   2h 40m    non-stop   \n",
       "10682  DEL ? GOI ? BOM ? COK    10:55         19:15   8h 20m     2 stops   \n",
       "\n",
       "      Additional_Info  Price  \n",
       "0             No info   3897  \n",
       "1             No info   7662  \n",
       "2             No info  13882  \n",
       "3             No info   6218  \n",
       "4             No info  13302  \n",
       "...               ...    ...  \n",
       "10678         No info   4107  \n",
       "10679         No info   4145  \n",
       "10680         No info   7229  \n",
       "10681         No info  12648  \n",
       "10682         No info  11753  \n",
       "\n",
       "[10683 rows x 11 columns]"
      ]
     },
     "execution_count": 17,
     "metadata": {},
     "output_type": "execute_result"
    }
   ],
   "source": [
    "data ## Checking head and tail"
   ]
  },
  {
   "cell_type": "code",
   "execution_count": 19,
   "id": "fdcd8745-cb2c-4f74-a92f-8fa6e6fc875a",
   "metadata": {},
   "outputs": [
    {
     "data": {
      "text/plain": [
       "(10683, 11)"
      ]
     },
     "execution_count": 19,
     "metadata": {},
     "output_type": "execute_result"
    }
   ],
   "source": [
    "data.shape"
   ]
  },
  {
   "cell_type": "code",
   "execution_count": 21,
   "id": "6d175bc3-c1ee-4b23-a447-2dc993ec9d0b",
   "metadata": {},
   "outputs": [
    {
     "name": "stdout",
     "output_type": "stream",
     "text": [
      "<class 'pandas.core.frame.DataFrame'>\n",
      "RangeIndex: 10683 entries, 0 to 10682\n",
      "Data columns (total 11 columns):\n",
      " #   Column           Non-Null Count  Dtype \n",
      "---  ------           --------------  ----- \n",
      " 0   Airline          10683 non-null  object\n",
      " 1   Date_of_Journey  10683 non-null  object\n",
      " 2   Source           10683 non-null  object\n",
      " 3   Destination      10683 non-null  object\n",
      " 4   Route            10682 non-null  object\n",
      " 5   Dep_Time         10683 non-null  object\n",
      " 6   Arrival_Time     10683 non-null  object\n",
      " 7   Duration         10683 non-null  object\n",
      " 8   Total_Stops      10682 non-null  object\n",
      " 9   Additional_Info  10683 non-null  object\n",
      " 10  Price            10683 non-null  int64 \n",
      "dtypes: int64(1), object(10)\n",
      "memory usage: 918.2+ KB\n"
     ]
    }
   ],
   "source": [
    "data.info() ## Information about the data"
   ]
  },
  {
   "cell_type": "code",
   "execution_count": 23,
   "id": "9231ec0d-ac6b-4655-b379-d53af7620352",
   "metadata": {},
   "outputs": [
    {
     "data": {
      "text/html": [
       "<div>\n",
       "<style scoped>\n",
       "    .dataframe tbody tr th:only-of-type {\n",
       "        vertical-align: middle;\n",
       "    }\n",
       "\n",
       "    .dataframe tbody tr th {\n",
       "        vertical-align: top;\n",
       "    }\n",
       "\n",
       "    .dataframe thead th {\n",
       "        text-align: right;\n",
       "    }\n",
       "</style>\n",
       "<table border=\"1\" class=\"dataframe\">\n",
       "  <thead>\n",
       "    <tr style=\"text-align: right;\">\n",
       "      <th></th>\n",
       "      <th>count</th>\n",
       "      <th>unique</th>\n",
       "      <th>top</th>\n",
       "      <th>freq</th>\n",
       "    </tr>\n",
       "  </thead>\n",
       "  <tbody>\n",
       "    <tr>\n",
       "      <th>Airline</th>\n",
       "      <td>10683</td>\n",
       "      <td>12</td>\n",
       "      <td>Jet Airways</td>\n",
       "      <td>3849</td>\n",
       "    </tr>\n",
       "    <tr>\n",
       "      <th>Date_of_Journey</th>\n",
       "      <td>10683</td>\n",
       "      <td>44</td>\n",
       "      <td>18/05/2019</td>\n",
       "      <td>504</td>\n",
       "    </tr>\n",
       "    <tr>\n",
       "      <th>Source</th>\n",
       "      <td>10683</td>\n",
       "      <td>5</td>\n",
       "      <td>Delhi</td>\n",
       "      <td>4537</td>\n",
       "    </tr>\n",
       "    <tr>\n",
       "      <th>Destination</th>\n",
       "      <td>10683</td>\n",
       "      <td>6</td>\n",
       "      <td>Cochin</td>\n",
       "      <td>4537</td>\n",
       "    </tr>\n",
       "    <tr>\n",
       "      <th>Route</th>\n",
       "      <td>10682</td>\n",
       "      <td>128</td>\n",
       "      <td>DEL ? BOM ? COK</td>\n",
       "      <td>2376</td>\n",
       "    </tr>\n",
       "    <tr>\n",
       "      <th>Dep_Time</th>\n",
       "      <td>10683</td>\n",
       "      <td>222</td>\n",
       "      <td>18:55</td>\n",
       "      <td>233</td>\n",
       "    </tr>\n",
       "    <tr>\n",
       "      <th>Arrival_Time</th>\n",
       "      <td>10683</td>\n",
       "      <td>1343</td>\n",
       "      <td>19:00</td>\n",
       "      <td>423</td>\n",
       "    </tr>\n",
       "    <tr>\n",
       "      <th>Duration</th>\n",
       "      <td>10683</td>\n",
       "      <td>368</td>\n",
       "      <td>2h 50m</td>\n",
       "      <td>550</td>\n",
       "    </tr>\n",
       "    <tr>\n",
       "      <th>Total_Stops</th>\n",
       "      <td>10682</td>\n",
       "      <td>5</td>\n",
       "      <td>1 stop</td>\n",
       "      <td>5625</td>\n",
       "    </tr>\n",
       "    <tr>\n",
       "      <th>Additional_Info</th>\n",
       "      <td>10683</td>\n",
       "      <td>10</td>\n",
       "      <td>No info</td>\n",
       "      <td>8345</td>\n",
       "    </tr>\n",
       "  </tbody>\n",
       "</table>\n",
       "</div>"
      ],
      "text/plain": [
       "                 count unique              top  freq\n",
       "Airline          10683     12      Jet Airways  3849\n",
       "Date_of_Journey  10683     44       18/05/2019   504\n",
       "Source           10683      5            Delhi  4537\n",
       "Destination      10683      6           Cochin  4537\n",
       "Route            10682    128  DEL ? BOM ? COK  2376\n",
       "Dep_Time         10683    222            18:55   233\n",
       "Arrival_Time     10683   1343            19:00   423\n",
       "Duration         10683    368           2h 50m   550\n",
       "Total_Stops      10682      5           1 stop  5625\n",
       "Additional_Info  10683     10          No info  8345"
      ]
     },
     "execution_count": 23,
     "metadata": {},
     "output_type": "execute_result"
    }
   ],
   "source": [
    "data.describe(include='O').T ## Descriptive statistics summary"
   ]
  },
  {
   "cell_type": "markdown",
   "id": "6788718f-c7c0-487a-a58d-24bbfb70f783",
   "metadata": {},
   "source": [
    "# Data Preprocessing"
   ]
  },
  {
   "cell_type": "markdown",
   "id": "c46c187d-f42c-4541-81d6-b1f0f1abf659",
   "metadata": {},
   "source": [
    "**Checking missing values/null values**"
   ]
  },
  {
   "cell_type": "code",
   "execution_count": 25,
   "id": "074a275a-8d1b-4d64-9358-848eae11137a",
   "metadata": {},
   "outputs": [
    {
     "data": {
      "text/plain": [
       "Airline            0\n",
       "Date_of_Journey    0\n",
       "Source             0\n",
       "Destination        0\n",
       "Route              1\n",
       "Dep_Time           0\n",
       "Arrival_Time       0\n",
       "Duration           0\n",
       "Total_Stops        1\n",
       "Additional_Info    0\n",
       "Price              0\n",
       "dtype: int64"
      ]
     },
     "execution_count": 25,
     "metadata": {},
     "output_type": "execute_result"
    }
   ],
   "source": [
    "## Checking null vales\n",
    "data.isnull().sum()"
   ]
  },
  {
   "cell_type": "markdown",
   "id": "4a88844e-698c-43c5-810f-c68d2942b01d",
   "metadata": {},
   "source": [
    "**As we can observe 2 missing values, so we can directly drop these, as these are very less**"
   ]
  },
  {
   "cell_type": "code",
   "execution_count": 27,
   "id": "fca37d5a-7511-41ae-a41c-545143f389f0",
   "metadata": {},
   "outputs": [],
   "source": [
    "## Dropping null values\n",
    "data.dropna(inplace=True)"
   ]
  },
  {
   "cell_type": "code",
   "execution_count": 29,
   "id": "5a471ae2-2e75-471e-901c-e5b9596ac6cc",
   "metadata": {},
   "outputs": [
    {
     "data": {
      "text/plain": [
       "Airline            0\n",
       "Date_of_Journey    0\n",
       "Source             0\n",
       "Destination        0\n",
       "Route              0\n",
       "Dep_Time           0\n",
       "Arrival_Time       0\n",
       "Duration           0\n",
       "Total_Stops        0\n",
       "Additional_Info    0\n",
       "Price              0\n",
       "dtype: int64"
      ]
     },
     "execution_count": 29,
     "metadata": {},
     "output_type": "execute_result"
    }
   ],
   "source": [
    "data.isnull().sum()"
   ]
  },
  {
   "cell_type": "markdown",
   "id": "0cf1b0ae-aa83-4e1e-918e-cc70453cef0a",
   "metadata": {},
   "source": [
    "**Converting Date and Time to Numerical Features**"
   ]
  },
  {
   "cell_type": "code",
   "execution_count": 31,
   "id": "2c6cb7b3-65b8-4e6e-b681-07b37349e274",
   "metadata": {},
   "outputs": [
    {
     "data": {
      "text/plain": [
       "Airline            object\n",
       "Date_of_Journey    object\n",
       "Source             object\n",
       "Destination        object\n",
       "Route              object\n",
       "Dep_Time           object\n",
       "Arrival_Time       object\n",
       "Duration           object\n",
       "Total_Stops        object\n",
       "Additional_Info    object\n",
       "Price               int64\n",
       "dtype: object"
      ]
     },
     "execution_count": 31,
     "metadata": {},
     "output_type": "execute_result"
    }
   ],
   "source": [
    "## checking dtypes\n",
    "data.dtypes"
   ]
  },
  {
   "cell_type": "markdown",
   "id": "5811e918-9213-47a8-9ddb-dc1928e97918",
   "metadata": {},
   "source": [
    "**The datatype of Date_of_journey is object. So we will split dates into components like day and month.**"
   ]
  },
  {
   "cell_type": "code",
   "execution_count": 33,
   "id": "11189099-1a46-4345-b8dc-d98476e4cadb",
   "metadata": {},
   "outputs": [],
   "source": [
    "## Extracing day from Date_of_Journey and assigning to new variable\n",
    "data['Journey_day'] = pd.to_datetime(data.Date_of_Journey,format='%d/%m/%Y').dt.day"
   ]
  },
  {
   "cell_type": "code",
   "execution_count": 35,
   "id": "ef59b99f-079c-4ac5-bd43-822d819935d9",
   "metadata": {},
   "outputs": [],
   "source": [
    "## Extracting month from Date_of_Journey and assigning to new variable\n",
    "data['Journey_Month'] = pd.to_datetime(data.Date_of_Journey,format='%d/%m/%Y').dt.month"
   ]
  },
  {
   "cell_type": "code",
   "execution_count": 37,
   "id": "392163b5-e6bd-488e-9fc6-3605e496389f",
   "metadata": {},
   "outputs": [],
   "source": [
    "## Dropping Date_of_Journey\n",
    "data.drop('Date_of_Journey', axis = 1, inplace=True)"
   ]
  },
  {
   "cell_type": "code",
   "execution_count": 39,
   "id": "9392ecb2-53a1-440a-9c5f-3e177e732668",
   "metadata": {},
   "outputs": [
    {
     "data": {
      "text/html": [
       "<div>\n",
       "<style scoped>\n",
       "    .dataframe tbody tr th:only-of-type {\n",
       "        vertical-align: middle;\n",
       "    }\n",
       "\n",
       "    .dataframe tbody tr th {\n",
       "        vertical-align: top;\n",
       "    }\n",
       "\n",
       "    .dataframe thead th {\n",
       "        text-align: right;\n",
       "    }\n",
       "</style>\n",
       "<table border=\"1\" class=\"dataframe\">\n",
       "  <thead>\n",
       "    <tr style=\"text-align: right;\">\n",
       "      <th></th>\n",
       "      <th>Airline</th>\n",
       "      <th>Source</th>\n",
       "      <th>Destination</th>\n",
       "      <th>Route</th>\n",
       "      <th>Dep_Time</th>\n",
       "      <th>Arrival_Time</th>\n",
       "      <th>Duration</th>\n",
       "      <th>Total_Stops</th>\n",
       "      <th>Additional_Info</th>\n",
       "      <th>Price</th>\n",
       "      <th>Journey_day</th>\n",
       "      <th>Journey_Month</th>\n",
       "    </tr>\n",
       "  </thead>\n",
       "  <tbody>\n",
       "    <tr>\n",
       "      <th>0</th>\n",
       "      <td>IndiGo</td>\n",
       "      <td>Banglore</td>\n",
       "      <td>New Delhi</td>\n",
       "      <td>BLR ? DEL</td>\n",
       "      <td>22:20</td>\n",
       "      <td>01:10 22 Mar</td>\n",
       "      <td>2h 50m</td>\n",
       "      <td>non-stop</td>\n",
       "      <td>No info</td>\n",
       "      <td>3897</td>\n",
       "      <td>24</td>\n",
       "      <td>3</td>\n",
       "    </tr>\n",
       "    <tr>\n",
       "      <th>1</th>\n",
       "      <td>Air India</td>\n",
       "      <td>Kolkata</td>\n",
       "      <td>Banglore</td>\n",
       "      <td>CCU ? IXR ? BBI ? BLR</td>\n",
       "      <td>05:50</td>\n",
       "      <td>13:15</td>\n",
       "      <td>7h 25m</td>\n",
       "      <td>2 stops</td>\n",
       "      <td>No info</td>\n",
       "      <td>7662</td>\n",
       "      <td>1</td>\n",
       "      <td>5</td>\n",
       "    </tr>\n",
       "    <tr>\n",
       "      <th>2</th>\n",
       "      <td>Jet Airways</td>\n",
       "      <td>Delhi</td>\n",
       "      <td>Cochin</td>\n",
       "      <td>DEL ? LKO ? BOM ? COK</td>\n",
       "      <td>09:25</td>\n",
       "      <td>04:25 10 Jun</td>\n",
       "      <td>19h</td>\n",
       "      <td>2 stops</td>\n",
       "      <td>No info</td>\n",
       "      <td>13882</td>\n",
       "      <td>9</td>\n",
       "      <td>6</td>\n",
       "    </tr>\n",
       "    <tr>\n",
       "      <th>3</th>\n",
       "      <td>IndiGo</td>\n",
       "      <td>Kolkata</td>\n",
       "      <td>Banglore</td>\n",
       "      <td>CCU ? NAG ? BLR</td>\n",
       "      <td>18:05</td>\n",
       "      <td>23:30</td>\n",
       "      <td>5h 25m</td>\n",
       "      <td>1 stop</td>\n",
       "      <td>No info</td>\n",
       "      <td>6218</td>\n",
       "      <td>12</td>\n",
       "      <td>5</td>\n",
       "    </tr>\n",
       "    <tr>\n",
       "      <th>4</th>\n",
       "      <td>IndiGo</td>\n",
       "      <td>Banglore</td>\n",
       "      <td>New Delhi</td>\n",
       "      <td>BLR ? NAG ? DEL</td>\n",
       "      <td>16:50</td>\n",
       "      <td>21:35</td>\n",
       "      <td>4h 45m</td>\n",
       "      <td>1 stop</td>\n",
       "      <td>No info</td>\n",
       "      <td>13302</td>\n",
       "      <td>1</td>\n",
       "      <td>3</td>\n",
       "    </tr>\n",
       "    <tr>\n",
       "      <th>...</th>\n",
       "      <td>...</td>\n",
       "      <td>...</td>\n",
       "      <td>...</td>\n",
       "      <td>...</td>\n",
       "      <td>...</td>\n",
       "      <td>...</td>\n",
       "      <td>...</td>\n",
       "      <td>...</td>\n",
       "      <td>...</td>\n",
       "      <td>...</td>\n",
       "      <td>...</td>\n",
       "      <td>...</td>\n",
       "    </tr>\n",
       "    <tr>\n",
       "      <th>10678</th>\n",
       "      <td>Air Asia</td>\n",
       "      <td>Kolkata</td>\n",
       "      <td>Banglore</td>\n",
       "      <td>CCU ? BLR</td>\n",
       "      <td>19:55</td>\n",
       "      <td>22:25</td>\n",
       "      <td>2h 30m</td>\n",
       "      <td>non-stop</td>\n",
       "      <td>No info</td>\n",
       "      <td>4107</td>\n",
       "      <td>9</td>\n",
       "      <td>4</td>\n",
       "    </tr>\n",
       "    <tr>\n",
       "      <th>10679</th>\n",
       "      <td>Air India</td>\n",
       "      <td>Kolkata</td>\n",
       "      <td>Banglore</td>\n",
       "      <td>CCU ? BLR</td>\n",
       "      <td>20:45</td>\n",
       "      <td>23:20</td>\n",
       "      <td>2h 35m</td>\n",
       "      <td>non-stop</td>\n",
       "      <td>No info</td>\n",
       "      <td>4145</td>\n",
       "      <td>27</td>\n",
       "      <td>4</td>\n",
       "    </tr>\n",
       "    <tr>\n",
       "      <th>10680</th>\n",
       "      <td>Jet Airways</td>\n",
       "      <td>Banglore</td>\n",
       "      <td>Delhi</td>\n",
       "      <td>BLR ? DEL</td>\n",
       "      <td>08:20</td>\n",
       "      <td>11:20</td>\n",
       "      <td>3h</td>\n",
       "      <td>non-stop</td>\n",
       "      <td>No info</td>\n",
       "      <td>7229</td>\n",
       "      <td>27</td>\n",
       "      <td>4</td>\n",
       "    </tr>\n",
       "    <tr>\n",
       "      <th>10681</th>\n",
       "      <td>Vistara</td>\n",
       "      <td>Banglore</td>\n",
       "      <td>New Delhi</td>\n",
       "      <td>BLR ? DEL</td>\n",
       "      <td>11:30</td>\n",
       "      <td>14:10</td>\n",
       "      <td>2h 40m</td>\n",
       "      <td>non-stop</td>\n",
       "      <td>No info</td>\n",
       "      <td>12648</td>\n",
       "      <td>1</td>\n",
       "      <td>3</td>\n",
       "    </tr>\n",
       "    <tr>\n",
       "      <th>10682</th>\n",
       "      <td>Air India</td>\n",
       "      <td>Delhi</td>\n",
       "      <td>Cochin</td>\n",
       "      <td>DEL ? GOI ? BOM ? COK</td>\n",
       "      <td>10:55</td>\n",
       "      <td>19:15</td>\n",
       "      <td>8h 20m</td>\n",
       "      <td>2 stops</td>\n",
       "      <td>No info</td>\n",
       "      <td>11753</td>\n",
       "      <td>9</td>\n",
       "      <td>5</td>\n",
       "    </tr>\n",
       "  </tbody>\n",
       "</table>\n",
       "<p>10682 rows × 12 columns</p>\n",
       "</div>"
      ],
      "text/plain": [
       "           Airline    Source Destination                  Route Dep_Time  \\\n",
       "0           IndiGo  Banglore   New Delhi              BLR ? DEL    22:20   \n",
       "1        Air India   Kolkata    Banglore  CCU ? IXR ? BBI ? BLR    05:50   \n",
       "2      Jet Airways     Delhi      Cochin  DEL ? LKO ? BOM ? COK    09:25   \n",
       "3           IndiGo   Kolkata    Banglore        CCU ? NAG ? BLR    18:05   \n",
       "4           IndiGo  Banglore   New Delhi        BLR ? NAG ? DEL    16:50   \n",
       "...            ...       ...         ...                    ...      ...   \n",
       "10678     Air Asia   Kolkata    Banglore              CCU ? BLR    19:55   \n",
       "10679    Air India   Kolkata    Banglore              CCU ? BLR    20:45   \n",
       "10680  Jet Airways  Banglore       Delhi              BLR ? DEL    08:20   \n",
       "10681      Vistara  Banglore   New Delhi              BLR ? DEL    11:30   \n",
       "10682    Air India     Delhi      Cochin  DEL ? GOI ? BOM ? COK    10:55   \n",
       "\n",
       "       Arrival_Time Duration Total_Stops Additional_Info  Price  Journey_day  \\\n",
       "0      01:10 22 Mar   2h 50m    non-stop         No info   3897           24   \n",
       "1             13:15   7h 25m     2 stops         No info   7662            1   \n",
       "2      04:25 10 Jun      19h     2 stops         No info  13882            9   \n",
       "3             23:30   5h 25m      1 stop         No info   6218           12   \n",
       "4             21:35   4h 45m      1 stop         No info  13302            1   \n",
       "...             ...      ...         ...             ...    ...          ...   \n",
       "10678         22:25   2h 30m    non-stop         No info   4107            9   \n",
       "10679         23:20   2h 35m    non-stop         No info   4145           27   \n",
       "10680         11:20       3h    non-stop         No info   7229           27   \n",
       "10681         14:10   2h 40m    non-stop         No info  12648            1   \n",
       "10682         19:15   8h 20m     2 stops         No info  11753            9   \n",
       "\n",
       "       Journey_Month  \n",
       "0                  3  \n",
       "1                  5  \n",
       "2                  6  \n",
       "3                  5  \n",
       "4                  3  \n",
       "...              ...  \n",
       "10678              4  \n",
       "10679              4  \n",
       "10680              4  \n",
       "10681              3  \n",
       "10682              5  \n",
       "\n",
       "[10682 rows x 12 columns]"
      ]
     },
     "execution_count": 39,
     "metadata": {},
     "output_type": "execute_result"
    }
   ],
   "source": [
    "data"
   ]
  },
  {
   "cell_type": "markdown",
   "id": "5802848f-e265-4f21-9177-747520fd9250",
   "metadata": {},
   "source": [
    "**Here also the dataype of Arrival_time and Dept_time features are object. So we will split times into components hour and minutes**"
   ]
  },
  {
   "cell_type": "code",
   "execution_count": 41,
   "id": "41c17570-1e66-42ce-a368-33604231ded4",
   "metadata": {},
   "outputs": [],
   "source": [
    "## Extracting hour from Dep_Time and assigning to new variable\n",
    "data['Dept_Hour'] = pd.to_datetime(data['Dep_Time']).dt.hour"
   ]
  },
  {
   "cell_type": "code",
   "execution_count": null,
   "id": "7d76a416-63db-48f4-b429-9a856e9964c9",
   "metadata": {},
   "outputs": [],
   "source": [
    "data"
   ]
  },
  {
   "cell_type": "code",
   "execution_count": 43,
   "id": "82050665-b996-451a-97b6-484ec7cd2c0c",
   "metadata": {},
   "outputs": [],
   "source": [
    "## Extracting minutes from Dep_Time and assigning to new variable\n",
    "data['Dept_Min'] = pd.to_datetime(data.Dep_Time).dt.minute"
   ]
  },
  {
   "cell_type": "code",
   "execution_count": null,
   "id": "a418cee9-b814-4e2d-b177-c4346f02580b",
   "metadata": {},
   "outputs": [],
   "source": [
    "data"
   ]
  },
  {
   "cell_type": "code",
   "execution_count": 45,
   "id": "0a6fac51-51a3-4160-87c9-bcf599851c16",
   "metadata": {},
   "outputs": [],
   "source": [
    "## Dropping Dept_time\n",
    "data.drop('Dep_Time', axis=1, inplace=True)"
   ]
  },
  {
   "cell_type": "code",
   "execution_count": null,
   "id": "63a37c79-909c-44f0-960b-73895b5966fa",
   "metadata": {},
   "outputs": [],
   "source": [
    "data"
   ]
  },
  {
   "cell_type": "code",
   "execution_count": 47,
   "id": "80df2863-dc53-4969-9232-b433e8f9c5d2",
   "metadata": {},
   "outputs": [],
   "source": [
    "## Extracting hour from Arrival_Time and assigning to new variable\n",
    "data['Arrival_Time_Hour'] = pd.to_datetime(data.Arrival_Time).dt.hour"
   ]
  },
  {
   "cell_type": "code",
   "execution_count": null,
   "id": "85c4810e-26f5-4db1-9bfc-2ab2db7124c4",
   "metadata": {},
   "outputs": [],
   "source": [
    "data"
   ]
  },
  {
   "cell_type": "code",
   "execution_count": 49,
   "id": "e63de441-080b-40e1-b521-1d8b83673057",
   "metadata": {},
   "outputs": [],
   "source": [
    "## Extracting minute from Arrival_Time and assigning to new variable\n",
    "data['Arrival_Time_Min'] = pd.to_datetime(data.Arrival_Time).dt.minute"
   ]
  },
  {
   "cell_type": "code",
   "execution_count": null,
   "id": "8858695f-c35f-4bd9-8f41-0d31e2bb0e24",
   "metadata": {},
   "outputs": [],
   "source": [
    "data"
   ]
  },
  {
   "cell_type": "code",
   "execution_count": 51,
   "id": "77ceba62-8288-42c2-a5f4-3e3d632fcba2",
   "metadata": {},
   "outputs": [],
   "source": [
    "## Dropping Arrival_Time\n",
    "data.drop('Arrival_Time', axis=1, inplace=True)"
   ]
  },
  {
   "cell_type": "code",
   "execution_count": 53,
   "id": "a84aabfe-1ff2-4148-9074-7cb22df1077d",
   "metadata": {},
   "outputs": [
    {
     "data": {
      "text/html": [
       "<div>\n",
       "<style scoped>\n",
       "    .dataframe tbody tr th:only-of-type {\n",
       "        vertical-align: middle;\n",
       "    }\n",
       "\n",
       "    .dataframe tbody tr th {\n",
       "        vertical-align: top;\n",
       "    }\n",
       "\n",
       "    .dataframe thead th {\n",
       "        text-align: right;\n",
       "    }\n",
       "</style>\n",
       "<table border=\"1\" class=\"dataframe\">\n",
       "  <thead>\n",
       "    <tr style=\"text-align: right;\">\n",
       "      <th></th>\n",
       "      <th>Airline</th>\n",
       "      <th>Source</th>\n",
       "      <th>Destination</th>\n",
       "      <th>Route</th>\n",
       "      <th>Duration</th>\n",
       "      <th>Total_Stops</th>\n",
       "      <th>Additional_Info</th>\n",
       "      <th>Price</th>\n",
       "      <th>Journey_day</th>\n",
       "      <th>Journey_Month</th>\n",
       "      <th>Dept_Hour</th>\n",
       "      <th>Dept_Min</th>\n",
       "      <th>Arrival_Time_Hour</th>\n",
       "      <th>Arrival_Time_Min</th>\n",
       "    </tr>\n",
       "  </thead>\n",
       "  <tbody>\n",
       "    <tr>\n",
       "      <th>0</th>\n",
       "      <td>IndiGo</td>\n",
       "      <td>Banglore</td>\n",
       "      <td>New Delhi</td>\n",
       "      <td>BLR ? DEL</td>\n",
       "      <td>2h 50m</td>\n",
       "      <td>non-stop</td>\n",
       "      <td>No info</td>\n",
       "      <td>3897</td>\n",
       "      <td>24</td>\n",
       "      <td>3</td>\n",
       "      <td>22</td>\n",
       "      <td>20</td>\n",
       "      <td>1</td>\n",
       "      <td>10</td>\n",
       "    </tr>\n",
       "    <tr>\n",
       "      <th>1</th>\n",
       "      <td>Air India</td>\n",
       "      <td>Kolkata</td>\n",
       "      <td>Banglore</td>\n",
       "      <td>CCU ? IXR ? BBI ? BLR</td>\n",
       "      <td>7h 25m</td>\n",
       "      <td>2 stops</td>\n",
       "      <td>No info</td>\n",
       "      <td>7662</td>\n",
       "      <td>1</td>\n",
       "      <td>5</td>\n",
       "      <td>5</td>\n",
       "      <td>50</td>\n",
       "      <td>13</td>\n",
       "      <td>15</td>\n",
       "    </tr>\n",
       "    <tr>\n",
       "      <th>2</th>\n",
       "      <td>Jet Airways</td>\n",
       "      <td>Delhi</td>\n",
       "      <td>Cochin</td>\n",
       "      <td>DEL ? LKO ? BOM ? COK</td>\n",
       "      <td>19h</td>\n",
       "      <td>2 stops</td>\n",
       "      <td>No info</td>\n",
       "      <td>13882</td>\n",
       "      <td>9</td>\n",
       "      <td>6</td>\n",
       "      <td>9</td>\n",
       "      <td>25</td>\n",
       "      <td>4</td>\n",
       "      <td>25</td>\n",
       "    </tr>\n",
       "    <tr>\n",
       "      <th>3</th>\n",
       "      <td>IndiGo</td>\n",
       "      <td>Kolkata</td>\n",
       "      <td>Banglore</td>\n",
       "      <td>CCU ? NAG ? BLR</td>\n",
       "      <td>5h 25m</td>\n",
       "      <td>1 stop</td>\n",
       "      <td>No info</td>\n",
       "      <td>6218</td>\n",
       "      <td>12</td>\n",
       "      <td>5</td>\n",
       "      <td>18</td>\n",
       "      <td>5</td>\n",
       "      <td>23</td>\n",
       "      <td>30</td>\n",
       "    </tr>\n",
       "    <tr>\n",
       "      <th>4</th>\n",
       "      <td>IndiGo</td>\n",
       "      <td>Banglore</td>\n",
       "      <td>New Delhi</td>\n",
       "      <td>BLR ? NAG ? DEL</td>\n",
       "      <td>4h 45m</td>\n",
       "      <td>1 stop</td>\n",
       "      <td>No info</td>\n",
       "      <td>13302</td>\n",
       "      <td>1</td>\n",
       "      <td>3</td>\n",
       "      <td>16</td>\n",
       "      <td>50</td>\n",
       "      <td>21</td>\n",
       "      <td>35</td>\n",
       "    </tr>\n",
       "    <tr>\n",
       "      <th>...</th>\n",
       "      <td>...</td>\n",
       "      <td>...</td>\n",
       "      <td>...</td>\n",
       "      <td>...</td>\n",
       "      <td>...</td>\n",
       "      <td>...</td>\n",
       "      <td>...</td>\n",
       "      <td>...</td>\n",
       "      <td>...</td>\n",
       "      <td>...</td>\n",
       "      <td>...</td>\n",
       "      <td>...</td>\n",
       "      <td>...</td>\n",
       "      <td>...</td>\n",
       "    </tr>\n",
       "    <tr>\n",
       "      <th>10678</th>\n",
       "      <td>Air Asia</td>\n",
       "      <td>Kolkata</td>\n",
       "      <td>Banglore</td>\n",
       "      <td>CCU ? BLR</td>\n",
       "      <td>2h 30m</td>\n",
       "      <td>non-stop</td>\n",
       "      <td>No info</td>\n",
       "      <td>4107</td>\n",
       "      <td>9</td>\n",
       "      <td>4</td>\n",
       "      <td>19</td>\n",
       "      <td>55</td>\n",
       "      <td>22</td>\n",
       "      <td>25</td>\n",
       "    </tr>\n",
       "    <tr>\n",
       "      <th>10679</th>\n",
       "      <td>Air India</td>\n",
       "      <td>Kolkata</td>\n",
       "      <td>Banglore</td>\n",
       "      <td>CCU ? BLR</td>\n",
       "      <td>2h 35m</td>\n",
       "      <td>non-stop</td>\n",
       "      <td>No info</td>\n",
       "      <td>4145</td>\n",
       "      <td>27</td>\n",
       "      <td>4</td>\n",
       "      <td>20</td>\n",
       "      <td>45</td>\n",
       "      <td>23</td>\n",
       "      <td>20</td>\n",
       "    </tr>\n",
       "    <tr>\n",
       "      <th>10680</th>\n",
       "      <td>Jet Airways</td>\n",
       "      <td>Banglore</td>\n",
       "      <td>Delhi</td>\n",
       "      <td>BLR ? DEL</td>\n",
       "      <td>3h</td>\n",
       "      <td>non-stop</td>\n",
       "      <td>No info</td>\n",
       "      <td>7229</td>\n",
       "      <td>27</td>\n",
       "      <td>4</td>\n",
       "      <td>8</td>\n",
       "      <td>20</td>\n",
       "      <td>11</td>\n",
       "      <td>20</td>\n",
       "    </tr>\n",
       "    <tr>\n",
       "      <th>10681</th>\n",
       "      <td>Vistara</td>\n",
       "      <td>Banglore</td>\n",
       "      <td>New Delhi</td>\n",
       "      <td>BLR ? DEL</td>\n",
       "      <td>2h 40m</td>\n",
       "      <td>non-stop</td>\n",
       "      <td>No info</td>\n",
       "      <td>12648</td>\n",
       "      <td>1</td>\n",
       "      <td>3</td>\n",
       "      <td>11</td>\n",
       "      <td>30</td>\n",
       "      <td>14</td>\n",
       "      <td>10</td>\n",
       "    </tr>\n",
       "    <tr>\n",
       "      <th>10682</th>\n",
       "      <td>Air India</td>\n",
       "      <td>Delhi</td>\n",
       "      <td>Cochin</td>\n",
       "      <td>DEL ? GOI ? BOM ? COK</td>\n",
       "      <td>8h 20m</td>\n",
       "      <td>2 stops</td>\n",
       "      <td>No info</td>\n",
       "      <td>11753</td>\n",
       "      <td>9</td>\n",
       "      <td>5</td>\n",
       "      <td>10</td>\n",
       "      <td>55</td>\n",
       "      <td>19</td>\n",
       "      <td>15</td>\n",
       "    </tr>\n",
       "  </tbody>\n",
       "</table>\n",
       "<p>10682 rows × 14 columns</p>\n",
       "</div>"
      ],
      "text/plain": [
       "           Airline    Source Destination                  Route Duration  \\\n",
       "0           IndiGo  Banglore   New Delhi              BLR ? DEL   2h 50m   \n",
       "1        Air India   Kolkata    Banglore  CCU ? IXR ? BBI ? BLR   7h 25m   \n",
       "2      Jet Airways     Delhi      Cochin  DEL ? LKO ? BOM ? COK      19h   \n",
       "3           IndiGo   Kolkata    Banglore        CCU ? NAG ? BLR   5h 25m   \n",
       "4           IndiGo  Banglore   New Delhi        BLR ? NAG ? DEL   4h 45m   \n",
       "...            ...       ...         ...                    ...      ...   \n",
       "10678     Air Asia   Kolkata    Banglore              CCU ? BLR   2h 30m   \n",
       "10679    Air India   Kolkata    Banglore              CCU ? BLR   2h 35m   \n",
       "10680  Jet Airways  Banglore       Delhi              BLR ? DEL       3h   \n",
       "10681      Vistara  Banglore   New Delhi              BLR ? DEL   2h 40m   \n",
       "10682    Air India     Delhi      Cochin  DEL ? GOI ? BOM ? COK   8h 20m   \n",
       "\n",
       "      Total_Stops Additional_Info  Price  Journey_day  Journey_Month  \\\n",
       "0        non-stop         No info   3897           24              3   \n",
       "1         2 stops         No info   7662            1              5   \n",
       "2         2 stops         No info  13882            9              6   \n",
       "3          1 stop         No info   6218           12              5   \n",
       "4          1 stop         No info  13302            1              3   \n",
       "...           ...             ...    ...          ...            ...   \n",
       "10678    non-stop         No info   4107            9              4   \n",
       "10679    non-stop         No info   4145           27              4   \n",
       "10680    non-stop         No info   7229           27              4   \n",
       "10681    non-stop         No info  12648            1              3   \n",
       "10682     2 stops         No info  11753            9              5   \n",
       "\n",
       "       Dept_Hour  Dept_Min  Arrival_Time_Hour  Arrival_Time_Min  \n",
       "0             22        20                  1                10  \n",
       "1              5        50                 13                15  \n",
       "2              9        25                  4                25  \n",
       "3             18         5                 23                30  \n",
       "4             16        50                 21                35  \n",
       "...          ...       ...                ...               ...  \n",
       "10678         19        55                 22                25  \n",
       "10679         20        45                 23                20  \n",
       "10680          8        20                 11                20  \n",
       "10681         11        30                 14                10  \n",
       "10682         10        55                 19                15  \n",
       "\n",
       "[10682 rows x 14 columns]"
      ]
     },
     "execution_count": 53,
     "metadata": {},
     "output_type": "execute_result"
    }
   ],
   "source": [
    "data"
   ]
  },
  {
   "cell_type": "code",
   "execution_count": 55,
   "id": "daa39c29-76ee-481a-b83e-855830c23323",
   "metadata": {},
   "outputs": [
    {
     "name": "stdout",
     "output_type": "stream",
     "text": [
      "<class 'pandas.core.frame.DataFrame'>\n",
      "Index: 10682 entries, 0 to 10682\n",
      "Data columns (total 14 columns):\n",
      " #   Column             Non-Null Count  Dtype \n",
      "---  ------             --------------  ----- \n",
      " 0   Airline            10682 non-null  object\n",
      " 1   Source             10682 non-null  object\n",
      " 2   Destination        10682 non-null  object\n",
      " 3   Route              10682 non-null  object\n",
      " 4   Duration           10682 non-null  object\n",
      " 5   Total_Stops        10682 non-null  object\n",
      " 6   Additional_Info    10682 non-null  object\n",
      " 7   Price              10682 non-null  int64 \n",
      " 8   Journey_day        10682 non-null  int32 \n",
      " 9   Journey_Month      10682 non-null  int32 \n",
      " 10  Dept_Hour          10682 non-null  int32 \n",
      " 11  Dept_Min           10682 non-null  int32 \n",
      " 12  Arrival_Time_Hour  10682 non-null  int32 \n",
      " 13  Arrival_Time_Min   10682 non-null  int32 \n",
      "dtypes: int32(6), int64(1), object(7)\n",
      "memory usage: 1001.4+ KB\n"
     ]
    }
   ],
   "source": [
    "data.info()"
   ]
  },
  {
   "cell_type": "markdown",
   "id": "df31bdea-54e0-47b8-a303-025d83790d97",
   "metadata": {},
   "source": [
    "**Lets Apply pre-processing on duration column.**\n"
   ]
  },
  {
   "cell_type": "raw",
   "id": "6144c7be-d86c-49b1-9225-fb0bb55f5870",
   "metadata": {},
   "source": [
    "1. The code checks if each entry in the duration list contains both hours (h) and minutes (m). If an entry is missing one of these components, it is modified to include both, ensuring a consistent format.\n",
    "2. This step aims to standardize the duration data, ensuring all entries have both hours and minutes.\n"
   ]
  },
  {
   "cell_type": "code",
   "execution_count": 57,
   "id": "de61fbd8-12fa-44b9-8e46-6231e0331ab9",
   "metadata": {},
   "outputs": [],
   "source": [
    "duration = list(data['Duration'])"
   ]
  },
  {
   "cell_type": "code",
   "execution_count": 59,
   "id": "da16604e-7c2d-4578-94e0-e9345a86225d",
   "metadata": {},
   "outputs": [],
   "source": [
    "for i in range(len(duration)):\n",
    "    if len(duration[i].split())!=2:\n",
    "        if 'h' in duration[i]:\n",
    "            duration[i]=duration[i].strip() + ' 0m'\n",
    "        else:\n",
    "            duration[i]='0h '+ duration[i] \n"
   ]
  },
  {
   "cell_type": "code",
   "execution_count": 61,
   "id": "66797d70-3b41-40c7-84eb-2c9376ef4cbb",
   "metadata": {},
   "outputs": [],
   "source": [
    "duration_hours = []\n",
    "duration_mins = []\n",
    "for i in range(len(duration)):\n",
    "    duration_hours.append(int(duration[i].split(sep = 'h')[0]))\n",
    "    duration_mins.append(int(duration[i].split(sep = 'm')[0].split()[-1]))\n",
    "    "
   ]
  },
  {
   "cell_type": "code",
   "execution_count": null,
   "id": "fbdfb2ba-6ff3-48e4-934f-2000192f70a9",
   "metadata": {},
   "outputs": [],
   "source": [
    "data"
   ]
  },
  {
   "cell_type": "code",
   "execution_count": 63,
   "id": "a714f696-df4a-434f-b4a5-9638ddefffe2",
   "metadata": {},
   "outputs": [],
   "source": [
    "data['duration_hours']=duration_hours"
   ]
  },
  {
   "cell_type": "code",
   "execution_count": 65,
   "id": "d64ac006-637b-414f-a091-b3bf0961e5aa",
   "metadata": {},
   "outputs": [],
   "source": [
    "data['duration_mins']=duration_mins"
   ]
  },
  {
   "cell_type": "code",
   "execution_count": 67,
   "id": "ccb5386e-5783-45e6-ac11-8f1b80392899",
   "metadata": {},
   "outputs": [],
   "source": [
    "## Dropping Duration\n",
    "data.drop('Duration', axis=1, inplace=True)"
   ]
  },
  {
   "cell_type": "code",
   "execution_count": 69,
   "id": "afe36e08-6fb8-4c42-8b81-b520066c8613",
   "metadata": {},
   "outputs": [
    {
     "data": {
      "text/html": [
       "<div>\n",
       "<style scoped>\n",
       "    .dataframe tbody tr th:only-of-type {\n",
       "        vertical-align: middle;\n",
       "    }\n",
       "\n",
       "    .dataframe tbody tr th {\n",
       "        vertical-align: top;\n",
       "    }\n",
       "\n",
       "    .dataframe thead th {\n",
       "        text-align: right;\n",
       "    }\n",
       "</style>\n",
       "<table border=\"1\" class=\"dataframe\">\n",
       "  <thead>\n",
       "    <tr style=\"text-align: right;\">\n",
       "      <th></th>\n",
       "      <th>Airline</th>\n",
       "      <th>Source</th>\n",
       "      <th>Destination</th>\n",
       "      <th>Route</th>\n",
       "      <th>Total_Stops</th>\n",
       "      <th>Additional_Info</th>\n",
       "      <th>Price</th>\n",
       "      <th>Journey_day</th>\n",
       "      <th>Journey_Month</th>\n",
       "      <th>Dept_Hour</th>\n",
       "      <th>Dept_Min</th>\n",
       "      <th>Arrival_Time_Hour</th>\n",
       "      <th>Arrival_Time_Min</th>\n",
       "      <th>duration_hours</th>\n",
       "      <th>duration_mins</th>\n",
       "    </tr>\n",
       "  </thead>\n",
       "  <tbody>\n",
       "    <tr>\n",
       "      <th>0</th>\n",
       "      <td>IndiGo</td>\n",
       "      <td>Banglore</td>\n",
       "      <td>New Delhi</td>\n",
       "      <td>BLR ? DEL</td>\n",
       "      <td>non-stop</td>\n",
       "      <td>No info</td>\n",
       "      <td>3897</td>\n",
       "      <td>24</td>\n",
       "      <td>3</td>\n",
       "      <td>22</td>\n",
       "      <td>20</td>\n",
       "      <td>1</td>\n",
       "      <td>10</td>\n",
       "      <td>2</td>\n",
       "      <td>50</td>\n",
       "    </tr>\n",
       "    <tr>\n",
       "      <th>1</th>\n",
       "      <td>Air India</td>\n",
       "      <td>Kolkata</td>\n",
       "      <td>Banglore</td>\n",
       "      <td>CCU ? IXR ? BBI ? BLR</td>\n",
       "      <td>2 stops</td>\n",
       "      <td>No info</td>\n",
       "      <td>7662</td>\n",
       "      <td>1</td>\n",
       "      <td>5</td>\n",
       "      <td>5</td>\n",
       "      <td>50</td>\n",
       "      <td>13</td>\n",
       "      <td>15</td>\n",
       "      <td>7</td>\n",
       "      <td>25</td>\n",
       "    </tr>\n",
       "    <tr>\n",
       "      <th>2</th>\n",
       "      <td>Jet Airways</td>\n",
       "      <td>Delhi</td>\n",
       "      <td>Cochin</td>\n",
       "      <td>DEL ? LKO ? BOM ? COK</td>\n",
       "      <td>2 stops</td>\n",
       "      <td>No info</td>\n",
       "      <td>13882</td>\n",
       "      <td>9</td>\n",
       "      <td>6</td>\n",
       "      <td>9</td>\n",
       "      <td>25</td>\n",
       "      <td>4</td>\n",
       "      <td>25</td>\n",
       "      <td>19</td>\n",
       "      <td>0</td>\n",
       "    </tr>\n",
       "    <tr>\n",
       "      <th>3</th>\n",
       "      <td>IndiGo</td>\n",
       "      <td>Kolkata</td>\n",
       "      <td>Banglore</td>\n",
       "      <td>CCU ? NAG ? BLR</td>\n",
       "      <td>1 stop</td>\n",
       "      <td>No info</td>\n",
       "      <td>6218</td>\n",
       "      <td>12</td>\n",
       "      <td>5</td>\n",
       "      <td>18</td>\n",
       "      <td>5</td>\n",
       "      <td>23</td>\n",
       "      <td>30</td>\n",
       "      <td>5</td>\n",
       "      <td>25</td>\n",
       "    </tr>\n",
       "    <tr>\n",
       "      <th>4</th>\n",
       "      <td>IndiGo</td>\n",
       "      <td>Banglore</td>\n",
       "      <td>New Delhi</td>\n",
       "      <td>BLR ? NAG ? DEL</td>\n",
       "      <td>1 stop</td>\n",
       "      <td>No info</td>\n",
       "      <td>13302</td>\n",
       "      <td>1</td>\n",
       "      <td>3</td>\n",
       "      <td>16</td>\n",
       "      <td>50</td>\n",
       "      <td>21</td>\n",
       "      <td>35</td>\n",
       "      <td>4</td>\n",
       "      <td>45</td>\n",
       "    </tr>\n",
       "    <tr>\n",
       "      <th>...</th>\n",
       "      <td>...</td>\n",
       "      <td>...</td>\n",
       "      <td>...</td>\n",
       "      <td>...</td>\n",
       "      <td>...</td>\n",
       "      <td>...</td>\n",
       "      <td>...</td>\n",
       "      <td>...</td>\n",
       "      <td>...</td>\n",
       "      <td>...</td>\n",
       "      <td>...</td>\n",
       "      <td>...</td>\n",
       "      <td>...</td>\n",
       "      <td>...</td>\n",
       "      <td>...</td>\n",
       "    </tr>\n",
       "    <tr>\n",
       "      <th>10678</th>\n",
       "      <td>Air Asia</td>\n",
       "      <td>Kolkata</td>\n",
       "      <td>Banglore</td>\n",
       "      <td>CCU ? BLR</td>\n",
       "      <td>non-stop</td>\n",
       "      <td>No info</td>\n",
       "      <td>4107</td>\n",
       "      <td>9</td>\n",
       "      <td>4</td>\n",
       "      <td>19</td>\n",
       "      <td>55</td>\n",
       "      <td>22</td>\n",
       "      <td>25</td>\n",
       "      <td>2</td>\n",
       "      <td>30</td>\n",
       "    </tr>\n",
       "    <tr>\n",
       "      <th>10679</th>\n",
       "      <td>Air India</td>\n",
       "      <td>Kolkata</td>\n",
       "      <td>Banglore</td>\n",
       "      <td>CCU ? BLR</td>\n",
       "      <td>non-stop</td>\n",
       "      <td>No info</td>\n",
       "      <td>4145</td>\n",
       "      <td>27</td>\n",
       "      <td>4</td>\n",
       "      <td>20</td>\n",
       "      <td>45</td>\n",
       "      <td>23</td>\n",
       "      <td>20</td>\n",
       "      <td>2</td>\n",
       "      <td>35</td>\n",
       "    </tr>\n",
       "    <tr>\n",
       "      <th>10680</th>\n",
       "      <td>Jet Airways</td>\n",
       "      <td>Banglore</td>\n",
       "      <td>Delhi</td>\n",
       "      <td>BLR ? DEL</td>\n",
       "      <td>non-stop</td>\n",
       "      <td>No info</td>\n",
       "      <td>7229</td>\n",
       "      <td>27</td>\n",
       "      <td>4</td>\n",
       "      <td>8</td>\n",
       "      <td>20</td>\n",
       "      <td>11</td>\n",
       "      <td>20</td>\n",
       "      <td>3</td>\n",
       "      <td>0</td>\n",
       "    </tr>\n",
       "    <tr>\n",
       "      <th>10681</th>\n",
       "      <td>Vistara</td>\n",
       "      <td>Banglore</td>\n",
       "      <td>New Delhi</td>\n",
       "      <td>BLR ? DEL</td>\n",
       "      <td>non-stop</td>\n",
       "      <td>No info</td>\n",
       "      <td>12648</td>\n",
       "      <td>1</td>\n",
       "      <td>3</td>\n",
       "      <td>11</td>\n",
       "      <td>30</td>\n",
       "      <td>14</td>\n",
       "      <td>10</td>\n",
       "      <td>2</td>\n",
       "      <td>40</td>\n",
       "    </tr>\n",
       "    <tr>\n",
       "      <th>10682</th>\n",
       "      <td>Air India</td>\n",
       "      <td>Delhi</td>\n",
       "      <td>Cochin</td>\n",
       "      <td>DEL ? GOI ? BOM ? COK</td>\n",
       "      <td>2 stops</td>\n",
       "      <td>No info</td>\n",
       "      <td>11753</td>\n",
       "      <td>9</td>\n",
       "      <td>5</td>\n",
       "      <td>10</td>\n",
       "      <td>55</td>\n",
       "      <td>19</td>\n",
       "      <td>15</td>\n",
       "      <td>8</td>\n",
       "      <td>20</td>\n",
       "    </tr>\n",
       "  </tbody>\n",
       "</table>\n",
       "<p>10682 rows × 15 columns</p>\n",
       "</div>"
      ],
      "text/plain": [
       "           Airline    Source Destination                  Route Total_Stops  \\\n",
       "0           IndiGo  Banglore   New Delhi              BLR ? DEL    non-stop   \n",
       "1        Air India   Kolkata    Banglore  CCU ? IXR ? BBI ? BLR     2 stops   \n",
       "2      Jet Airways     Delhi      Cochin  DEL ? LKO ? BOM ? COK     2 stops   \n",
       "3           IndiGo   Kolkata    Banglore        CCU ? NAG ? BLR      1 stop   \n",
       "4           IndiGo  Banglore   New Delhi        BLR ? NAG ? DEL      1 stop   \n",
       "...            ...       ...         ...                    ...         ...   \n",
       "10678     Air Asia   Kolkata    Banglore              CCU ? BLR    non-stop   \n",
       "10679    Air India   Kolkata    Banglore              CCU ? BLR    non-stop   \n",
       "10680  Jet Airways  Banglore       Delhi              BLR ? DEL    non-stop   \n",
       "10681      Vistara  Banglore   New Delhi              BLR ? DEL    non-stop   \n",
       "10682    Air India     Delhi      Cochin  DEL ? GOI ? BOM ? COK     2 stops   \n",
       "\n",
       "      Additional_Info  Price  Journey_day  Journey_Month  Dept_Hour  Dept_Min  \\\n",
       "0             No info   3897           24              3         22        20   \n",
       "1             No info   7662            1              5          5        50   \n",
       "2             No info  13882            9              6          9        25   \n",
       "3             No info   6218           12              5         18         5   \n",
       "4             No info  13302            1              3         16        50   \n",
       "...               ...    ...          ...            ...        ...       ...   \n",
       "10678         No info   4107            9              4         19        55   \n",
       "10679         No info   4145           27              4         20        45   \n",
       "10680         No info   7229           27              4          8        20   \n",
       "10681         No info  12648            1              3         11        30   \n",
       "10682         No info  11753            9              5         10        55   \n",
       "\n",
       "       Arrival_Time_Hour  Arrival_Time_Min  duration_hours  duration_mins  \n",
       "0                      1                10               2             50  \n",
       "1                     13                15               7             25  \n",
       "2                      4                25              19              0  \n",
       "3                     23                30               5             25  \n",
       "4                     21                35               4             45  \n",
       "...                  ...               ...             ...            ...  \n",
       "10678                 22                25               2             30  \n",
       "10679                 23                20               2             35  \n",
       "10680                 11                20               3              0  \n",
       "10681                 14                10               2             40  \n",
       "10682                 19                15               8             20  \n",
       "\n",
       "[10682 rows x 15 columns]"
      ]
     },
     "execution_count": 69,
     "metadata": {},
     "output_type": "execute_result"
    }
   ],
   "source": [
    "data"
   ]
  },
  {
   "cell_type": "markdown",
   "id": "bb2c7286-c32c-4b2d-bbf8-8ca2e795f254",
   "metadata": {},
   "source": [
    "# EDA - Exploratory Data Analysis"
   ]
  },
  {
   "cell_type": "code",
   "execution_count": 71,
   "id": "c5f52e3a-59cb-48ed-adf1-b39f1eb0b4e4",
   "metadata": {},
   "outputs": [
    {
     "data": {
      "text/plain": [
       "Index(['Airline', 'Source', 'Destination', 'Route', 'Total_Stops',\n",
       "       'Additional_Info', 'Price', 'Journey_day', 'Journey_Month', 'Dept_Hour',\n",
       "       'Dept_Min', 'Arrival_Time_Hour', 'Arrival_Time_Min', 'duration_hours',\n",
       "       'duration_mins'],\n",
       "      dtype='object')"
      ]
     },
     "execution_count": 71,
     "metadata": {},
     "output_type": "execute_result"
    }
   ],
   "source": [
    "data.columns"
   ]
  },
  {
   "cell_type": "markdown",
   "id": "fd10c538-7279-4e15-b70d-942f506b07c3",
   "metadata": {},
   "source": [
    "**Airline vs Price Analysis**"
   ]
  },
  {
   "cell_type": "code",
   "execution_count": 73,
   "id": "01717819-070b-4004-9e45-edc6b4c8d12f",
   "metadata": {},
   "outputs": [
    {
     "data": {
      "text/plain": [
       "Airline\n",
       "Jet Airways                          3849\n",
       "IndiGo                               2053\n",
       "Air India                            1751\n",
       "Multiple carriers                    1196\n",
       "SpiceJet                              818\n",
       "Vistara                               479\n",
       "Air Asia                              319\n",
       "GoAir                                 194\n",
       "Multiple carriers Premium economy      13\n",
       "Jet Airways Business                    6\n",
       "Vistara Premium economy                 3\n",
       "Trujet                                  1\n",
       "Name: count, dtype: int64"
      ]
     },
     "execution_count": 73,
     "metadata": {},
     "output_type": "execute_result"
    }
   ],
   "source": [
    "data.Airline.value_counts()"
   ]
  },
  {
   "cell_type": "code",
   "execution_count": 75,
   "id": "e9354cca-b6d4-4d43-b51b-e8a8976e4cbd",
   "metadata": {},
   "outputs": [
    {
     "data": {
      "text/plain": [
       "<Axes: xlabel='Airline', ylabel='Price'>"
      ]
     },
     "execution_count": 75,
     "metadata": {},
     "output_type": "execute_result"
    },
    {
     "data": {
      "image/png": "[encoded data removed]",
      "text/plain": [
       "<Figure size 2500x1000 with 1 Axes>"
      ]
     },
     "metadata": {},
     "output_type": "display_data"
    }
   ],
   "source": [
    "plt.figure(figsize=(25,10))\n",
    "sns.boxplot(x='Airline',y='Price', data=data.sort_values('Price', ascending=False))"
   ]
  },
  {
   "cell_type": "markdown",
   "id": "e883b79a-0826-4485-94b1-c19219fa5568",
   "metadata": {},
   "source": [
    "**There are slight differences between each companies on this graph, AirAsia seems to have the cheapest flights when Jet Airways, Multiple camers and Air India are more expensive. However it looks like Jet Airways Business Class are a little more expensive than the Jet Airways Economic Class.**"
   ]
  },
  {
   "cell_type": "markdown",
   "id": "8381c63d-61e2-4047-bcf0-f7f04e6f404e",
   "metadata": {},
   "source": [
    "**Total_stops vs Price Analysis**"
   ]
  },
  {
   "cell_type": "code",
   "execution_count": 77,
   "id": "e2cfab4e-d63f-40dd-a69c-75fbe6181a3d",
   "metadata": {},
   "outputs": [
    {
     "data": {
      "text/plain": [
       "Total_Stops\n",
       "1 stop      5625\n",
       "non-stop    3491\n",
       "2 stops     1520\n",
       "3 stops       45\n",
       "4 stops        1\n",
       "Name: count, dtype: int64"
      ]
     },
     "execution_count": 77,
     "metadata": {},
     "output_type": "execute_result"
    }
   ],
   "source": [
    "data.Total_Stops.value_counts()"
   ]
  },
  {
   "cell_type": "code",
   "execution_count": 79,
   "id": "d4945e79-b0c8-4387-8280-3ce1a261151b",
   "metadata": {},
   "outputs": [
    {
     "data": {
      "text/plain": [
       "<seaborn.axisgrid.FacetGrid at 0x2b10ec0ee50>"
      ]
     },
     "execution_count": 79,
     "metadata": {},
     "output_type": "execute_result"
    },
    {
     "data": {
      "text/plain": [
       "<Figure size 1500x500 with 0 Axes>"
      ]
     },
     "metadata": {},
     "output_type": "display_data"
    },
    {
     "data": {
      "image/png": "[encoded data removed]",
      "text/plain": [
       "<Figure size 500x500 with 1 Axes>"
      ]
     },
     "metadata": {},
     "output_type": "display_data"
    }
   ],
   "source": [
    "plt.figure(figsize=(15,5))\n",
    "sns.catplot(x='Total_Stops',y='Price', data=data.sort_values('Price', ascending=False),kind='boxen')"
   ]
  },
  {
   "cell_type": "markdown",
   "id": "578f866d-6fdf-467e-a6a8-74e80263129a",
   "metadata": {},
   "source": [
    "**The majority of flights are 1 stop and followed by 2 stops and non-stop. Non-stop flights tend to be cheaper, prices are highest for 1-stop flights, followed by 2-stop flights, with non-stop flights generally being the most affordable.**\r\n"
   ]
  },
  {
   "cell_type": "markdown",
   "id": "67613db8-7dff-407a-aeee-eb9312b89d3f",
   "metadata": {},
   "source": [
    "**Source vs Price Analysis**"
   ]
  },
  {
   "cell_type": "code",
   "execution_count": 81,
   "id": "ba6b2b59-252d-4c49-a16e-aa75c0282703",
   "metadata": {},
   "outputs": [
    {
     "data": {
      "text/plain": [
       "Source\n",
       "Delhi       4536\n",
       "Kolkata     2871\n",
       "Banglore    2197\n",
       "Mumbai       697\n",
       "Chennai      381\n",
       "Name: count, dtype: int64"
      ]
     },
     "execution_count": 81,
     "metadata": {},
     "output_type": "execute_result"
    }
   ],
   "source": [
    "data.Source.value_counts()"
   ]
  },
  {
   "cell_type": "code",
   "execution_count": 83,
   "id": "ad039de3-c8cf-4335-a4c0-8da3590cea82",
   "metadata": {},
   "outputs": [
    {
     "data": {
      "text/plain": [
       "<seaborn.axisgrid.FacetGrid at 0x2b10ecb0590>"
      ]
     },
     "execution_count": 83,
     "metadata": {},
     "output_type": "execute_result"
    },
    {
     "data": {
      "text/plain": [
       "<Figure size 1500x500 with 0 Axes>"
      ]
     },
     "metadata": {},
     "output_type": "display_data"
    },
    {
     "data": {
      "image/png": "[encoded data removed]",
      "text/plain": [
       "<Figure size 500x500 with 1 Axes>"
      ]
     },
     "metadata": {},
     "output_type": "display_data"
    }
   ],
   "source": [
    "plt.figure(figsize=(15,5))\n",
    "sns.catplot(x='Source', y='Price', data=data.sort_values('Price', ascending=False),kind='boxen')"
   ]
  },
  {
   "cell_type": "markdown",
   "id": "5214b403-6976-4f9f-8958-ffe03b9ab149",
   "metadata": {},
   "source": [
    "**Flights departing from Bangalore tend to have the highest prices, followed by other cities, while Chennai appears to offer more affordable options. Among the sources, Delhi has the highest frequency, followed by Kolkata and Bangalore.**"
   ]
  },
  {
   "cell_type": "markdown",
   "id": "952c9662-cd03-4e18-b643-b9c8eeef669a",
   "metadata": {},
   "source": [
    "**Destination vs Price Analysis**"
   ]
  },
  {
   "cell_type": "code",
   "execution_count": 85,
   "id": "448fc3c6-4c68-45b8-a5ac-34b1884748bb",
   "metadata": {},
   "outputs": [
    {
     "data": {
      "text/plain": [
       "Destination\n",
       "Cochin       4536\n",
       "Banglore     2871\n",
       "Delhi        1265\n",
       "New Delhi     932\n",
       "Hyderabad     697\n",
       "Kolkata       381\n",
       "Name: count, dtype: int64"
      ]
     },
     "execution_count": 85,
     "metadata": {},
     "output_type": "execute_result"
    }
   ],
   "source": [
    "data.Destination.value_counts()"
   ]
  },
  {
   "cell_type": "code",
   "execution_count": 87,
   "id": "eac9c6c6-f192-4169-87ad-d407d573ec52",
   "metadata": {},
   "outputs": [
    {
     "data": {
      "text/plain": [
       "<seaborn.axisgrid.FacetGrid at 0x2b10eae6390>"
      ]
     },
     "execution_count": 87,
     "metadata": {},
     "output_type": "execute_result"
    },
    {
     "data": {
      "text/plain": [
       "<Figure size 2000x1500 with 0 Axes>"
      ]
     },
     "metadata": {},
     "output_type": "display_data"
    },
    {
     "data": {
      "image/png": "[encoded data removed]",
      "text/plain": [
       "<Figure size 500x500 with 1 Axes>"
      ]
     },
     "metadata": {},
     "output_type": "display_data"
    }
   ],
   "source": [
    "plt.figure(figsize=(20,15))\n",
    "sns.catplot(x='Destination', y='Price', data=data.sort_values('Price', ascending=False),kind='boxen')"
   ]
  },
  {
   "cell_type": "markdown",
   "id": "e998ef87-5259-4bac-983e-d4072bf2f991",
   "metadata": {},
   "source": [
    "**New Delhi has the highest flight prices, followed by Cochin, while flights to Delhi are more affordable. In terms of destination frequency, Cochin has the most flights, followed by Bangalore and Delhi.**"
   ]
  },
  {
   "cell_type": "code",
   "execution_count": null,
   "id": "dda362cb-679b-49f3-9740-076fd364b30e",
   "metadata": {},
   "outputs": [],
   "source": [
    "data"
   ]
  },
  {
   "cell_type": "markdown",
   "id": "79abd398-6d2a-4f72-b7ff-0e0405739c06",
   "metadata": {},
   "source": [
    "# Encoding - Handling categorical data"
   ]
  },
  {
   "cell_type": "code",
   "execution_count": 89,
   "id": "4388d2e1-5a11-4551-8a6e-1cdebaf66cc2",
   "metadata": {},
   "outputs": [
    {
     "data": {
      "text/plain": [
       "Index(['Airline', 'Source', 'Destination', 'Route', 'Total_Stops',\n",
       "       'Additional_Info', 'Price', 'Journey_day', 'Journey_Month', 'Dept_Hour',\n",
       "       'Dept_Min', 'Arrival_Time_Hour', 'Arrival_Time_Min', 'duration_hours',\n",
       "       'duration_mins'],\n",
       "      dtype='object')"
      ]
     },
     "execution_count": 89,
     "metadata": {},
     "output_type": "execute_result"
    }
   ],
   "source": [
    "data.columns"
   ]
  },
  {
   "cell_type": "code",
   "execution_count": 91,
   "id": "57c314b1-08a6-43b6-b21c-8d502ee81d22",
   "metadata": {},
   "outputs": [],
   "source": [
    "## One hot encoding for Airline, Source and Destination\n",
    "data=pd.get_dummies(data=data,columns=['Airline', 'Source', 'Destination'], drop_first=True)"
   ]
  },
  {
   "cell_type": "code",
   "execution_count": null,
   "id": "95be7bdb-acc1-4275-85e6-a7fa72adb8cf",
   "metadata": {},
   "outputs": [],
   "source": [
    "data.nunique()"
   ]
  },
  {
   "cell_type": "code",
   "execution_count": null,
   "id": "851b833a-07a7-457d-87a4-830adb9e79fe",
   "metadata": {},
   "outputs": [],
   "source": [
    "data.Total_Stops.value_counts()"
   ]
  },
  {
   "cell_type": "code",
   "execution_count": 93,
   "id": "0031cf51-06cb-41c6-8029-9859c05ce661",
   "metadata": {},
   "outputs": [],
   "source": [
    "## Manual encoding for Total_Stops\n",
    "Dict = {'non-stop':0,'1 stop':1, '2 stops':2, '3 stops':3, '4 stops':4}\n",
    "data['Total_Stops']=data['Total_Stops'].map(Dict)"
   ]
  },
  {
   "cell_type": "code",
   "execution_count": null,
   "id": "63e6fc54-8f28-4acb-b629-26238152c032",
   "metadata": {},
   "outputs": [],
   "source": [
    "data.Total_Stops.value_counts()"
   ]
  },
  {
   "cell_type": "code",
   "execution_count": 95,
   "id": "269b4828-2346-43e8-a0be-821a8e51a38a",
   "metadata": {},
   "outputs": [],
   "source": [
    "## Manual encoding for Additional_info\n",
    "data.replace({'No info':0,'No Info':0, 'In-flight meal not included':1,'No check-in baggage included':2, '1 Long layover':3, 'Change airports':4,'Business class':5,\\\n",
    "       '1 Short layover':6,'Red-eye flight':7,'2 Long layover':8}, inplace=True)"
   ]
  },
  {
   "cell_type": "code",
   "execution_count": null,
   "id": "9ce9f5e0-fc18-44f2-b098-adacd39e6c4d",
   "metadata": {},
   "outputs": [],
   "source": [
    "data.Additional_Info.value_counts()"
   ]
  },
  {
   "cell_type": "code",
   "execution_count": 97,
   "id": "6319526b-ffe1-4eae-87bb-6fb6d7895319",
   "metadata": {},
   "outputs": [
    {
     "data": {
      "text/html": [
       "<div>\n",
       "<style scoped>\n",
       "    .dataframe tbody tr th:only-of-type {\n",
       "        vertical-align: middle;\n",
       "    }\n",
       "\n",
       "    .dataframe tbody tr th {\n",
       "        vertical-align: top;\n",
       "    }\n",
       "\n",
       "    .dataframe thead th {\n",
       "        text-align: right;\n",
       "    }\n",
       "</style>\n",
       "<table border=\"1\" class=\"dataframe\">\n",
       "  <thead>\n",
       "    <tr style=\"text-align: right;\">\n",
       "      <th></th>\n",
       "      <th>Route</th>\n",
       "      <th>Total_Stops</th>\n",
       "      <th>Additional_Info</th>\n",
       "      <th>Price</th>\n",
       "      <th>Journey_day</th>\n",
       "      <th>Journey_Month</th>\n",
       "      <th>Dept_Hour</th>\n",
       "      <th>Dept_Min</th>\n",
       "      <th>Arrival_Time_Hour</th>\n",
       "      <th>Arrival_Time_Min</th>\n",
       "      <th>...</th>\n",
       "      <th>Airline_Vistara Premium economy</th>\n",
       "      <th>Source_Chennai</th>\n",
       "      <th>Source_Delhi</th>\n",
       "      <th>Source_Kolkata</th>\n",
       "      <th>Source_Mumbai</th>\n",
       "      <th>Destination_Cochin</th>\n",
       "      <th>Destination_Delhi</th>\n",
       "      <th>Destination_Hyderabad</th>\n",
       "      <th>Destination_Kolkata</th>\n",
       "      <th>Destination_New Delhi</th>\n",
       "    </tr>\n",
       "  </thead>\n",
       "  <tbody>\n",
       "    <tr>\n",
       "      <th>0</th>\n",
       "      <td>BLR ? DEL</td>\n",
       "      <td>0</td>\n",
       "      <td>0</td>\n",
       "      <td>3897</td>\n",
       "      <td>24</td>\n",
       "      <td>3</td>\n",
       "      <td>22</td>\n",
       "      <td>20</td>\n",
       "      <td>1</td>\n",
       "      <td>10</td>\n",
       "      <td>...</td>\n",
       "      <td>False</td>\n",
       "      <td>False</td>\n",
       "      <td>False</td>\n",
       "      <td>False</td>\n",
       "      <td>False</td>\n",
       "      <td>False</td>\n",
       "      <td>False</td>\n",
       "      <td>False</td>\n",
       "      <td>False</td>\n",
       "      <td>True</td>\n",
       "    </tr>\n",
       "    <tr>\n",
       "      <th>1</th>\n",
       "      <td>CCU ? IXR ? BBI ? BLR</td>\n",
       "      <td>2</td>\n",
       "      <td>0</td>\n",
       "      <td>7662</td>\n",
       "      <td>1</td>\n",
       "      <td>5</td>\n",
       "      <td>5</td>\n",
       "      <td>50</td>\n",
       "      <td>13</td>\n",
       "      <td>15</td>\n",
       "      <td>...</td>\n",
       "      <td>False</td>\n",
       "      <td>False</td>\n",
       "      <td>False</td>\n",
       "      <td>True</td>\n",
       "      <td>False</td>\n",
       "      <td>False</td>\n",
       "      <td>False</td>\n",
       "      <td>False</td>\n",
       "      <td>False</td>\n",
       "      <td>False</td>\n",
       "    </tr>\n",
       "    <tr>\n",
       "      <th>2</th>\n",
       "      <td>DEL ? LKO ? BOM ? COK</td>\n",
       "      <td>2</td>\n",
       "      <td>0</td>\n",
       "      <td>13882</td>\n",
       "      <td>9</td>\n",
       "      <td>6</td>\n",
       "      <td>9</td>\n",
       "      <td>25</td>\n",
       "      <td>4</td>\n",
       "      <td>25</td>\n",
       "      <td>...</td>\n",
       "      <td>False</td>\n",
       "      <td>False</td>\n",
       "      <td>True</td>\n",
       "      <td>False</td>\n",
       "      <td>False</td>\n",
       "      <td>True</td>\n",
       "      <td>False</td>\n",
       "      <td>False</td>\n",
       "      <td>False</td>\n",
       "      <td>False</td>\n",
       "    </tr>\n",
       "    <tr>\n",
       "      <th>3</th>\n",
       "      <td>CCU ? NAG ? BLR</td>\n",
       "      <td>1</td>\n",
       "      <td>0</td>\n",
       "      <td>6218</td>\n",
       "      <td>12</td>\n",
       "      <td>5</td>\n",
       "      <td>18</td>\n",
       "      <td>5</td>\n",
       "      <td>23</td>\n",
       "      <td>30</td>\n",
       "      <td>...</td>\n",
       "      <td>False</td>\n",
       "      <td>False</td>\n",
       "      <td>False</td>\n",
       "      <td>True</td>\n",
       "      <td>False</td>\n",
       "      <td>False</td>\n",
       "      <td>False</td>\n",
       "      <td>False</td>\n",
       "      <td>False</td>\n",
       "      <td>False</td>\n",
       "    </tr>\n",
       "    <tr>\n",
       "      <th>4</th>\n",
       "      <td>BLR ? NAG ? DEL</td>\n",
       "      <td>1</td>\n",
       "      <td>0</td>\n",
       "      <td>13302</td>\n",
       "      <td>1</td>\n",
       "      <td>3</td>\n",
       "      <td>16</td>\n",
       "      <td>50</td>\n",
       "      <td>21</td>\n",
       "      <td>35</td>\n",
       "      <td>...</td>\n",
       "      <td>False</td>\n",
       "      <td>False</td>\n",
       "      <td>False</td>\n",
       "      <td>False</td>\n",
       "      <td>False</td>\n",
       "      <td>False</td>\n",
       "      <td>False</td>\n",
       "      <td>False</td>\n",
       "      <td>False</td>\n",
       "      <td>True</td>\n",
       "    </tr>\n",
       "    <tr>\n",
       "      <th>...</th>\n",
       "      <td>...</td>\n",
       "      <td>...</td>\n",
       "      <td>...</td>\n",
       "      <td>...</td>\n",
       "      <td>...</td>\n",
       "      <td>...</td>\n",
       "      <td>...</td>\n",
       "      <td>...</td>\n",
       "      <td>...</td>\n",
       "      <td>...</td>\n",
       "      <td>...</td>\n",
       "      <td>...</td>\n",
       "      <td>...</td>\n",
       "      <td>...</td>\n",
       "      <td>...</td>\n",
       "      <td>...</td>\n",
       "      <td>...</td>\n",
       "      <td>...</td>\n",
       "      <td>...</td>\n",
       "      <td>...</td>\n",
       "      <td>...</td>\n",
       "    </tr>\n",
       "    <tr>\n",
       "      <th>10678</th>\n",
       "      <td>CCU ? BLR</td>\n",
       "      <td>0</td>\n",
       "      <td>0</td>\n",
       "      <td>4107</td>\n",
       "      <td>9</td>\n",
       "      <td>4</td>\n",
       "      <td>19</td>\n",
       "      <td>55</td>\n",
       "      <td>22</td>\n",
       "      <td>25</td>\n",
       "      <td>...</td>\n",
       "      <td>False</td>\n",
       "      <td>False</td>\n",
       "      <td>False</td>\n",
       "      <td>True</td>\n",
       "      <td>False</td>\n",
       "      <td>False</td>\n",
       "      <td>False</td>\n",
       "      <td>False</td>\n",
       "      <td>False</td>\n",
       "      <td>False</td>\n",
       "    </tr>\n",
       "    <tr>\n",
       "      <th>10679</th>\n",
       "      <td>CCU ? BLR</td>\n",
       "      <td>0</td>\n",
       "      <td>0</td>\n",
       "      <td>4145</td>\n",
       "      <td>27</td>\n",
       "      <td>4</td>\n",
       "      <td>20</td>\n",
       "      <td>45</td>\n",
       "      <td>23</td>\n",
       "      <td>20</td>\n",
       "      <td>...</td>\n",
       "      <td>False</td>\n",
       "      <td>False</td>\n",
       "      <td>False</td>\n",
       "      <td>True</td>\n",
       "      <td>False</td>\n",
       "      <td>False</td>\n",
       "      <td>False</td>\n",
       "      <td>False</td>\n",
       "      <td>False</td>\n",
       "      <td>False</td>\n",
       "    </tr>\n",
       "    <tr>\n",
       "      <th>10680</th>\n",
       "      <td>BLR ? DEL</td>\n",
       "      <td>0</td>\n",
       "      <td>0</td>\n",
       "      <td>7229</td>\n",
       "      <td>27</td>\n",
       "      <td>4</td>\n",
       "      <td>8</td>\n",
       "      <td>20</td>\n",
       "      <td>11</td>\n",
       "      <td>20</td>\n",
       "      <td>...</td>\n",
       "      <td>False</td>\n",
       "      <td>False</td>\n",
       "      <td>False</td>\n",
       "      <td>False</td>\n",
       "      <td>False</td>\n",
       "      <td>False</td>\n",
       "      <td>True</td>\n",
       "      <td>False</td>\n",
       "      <td>False</td>\n",
       "      <td>False</td>\n",
       "    </tr>\n",
       "    <tr>\n",
       "      <th>10681</th>\n",
       "      <td>BLR ? DEL</td>\n",
       "      <td>0</td>\n",
       "      <td>0</td>\n",
       "      <td>12648</td>\n",
       "      <td>1</td>\n",
       "      <td>3</td>\n",
       "      <td>11</td>\n",
       "      <td>30</td>\n",
       "      <td>14</td>\n",
       "      <td>10</td>\n",
       "      <td>...</td>\n",
       "      <td>False</td>\n",
       "      <td>False</td>\n",
       "      <td>False</td>\n",
       "      <td>False</td>\n",
       "      <td>False</td>\n",
       "      <td>False</td>\n",
       "      <td>False</td>\n",
       "      <td>False</td>\n",
       "      <td>False</td>\n",
       "      <td>True</td>\n",
       "    </tr>\n",
       "    <tr>\n",
       "      <th>10682</th>\n",
       "      <td>DEL ? GOI ? BOM ? COK</td>\n",
       "      <td>2</td>\n",
       "      <td>0</td>\n",
       "      <td>11753</td>\n",
       "      <td>9</td>\n",
       "      <td>5</td>\n",
       "      <td>10</td>\n",
       "      <td>55</td>\n",
       "      <td>19</td>\n",
       "      <td>15</td>\n",
       "      <td>...</td>\n",
       "      <td>False</td>\n",
       "      <td>False</td>\n",
       "      <td>True</td>\n",
       "      <td>False</td>\n",
       "      <td>False</td>\n",
       "      <td>True</td>\n",
       "      <td>False</td>\n",
       "      <td>False</td>\n",
       "      <td>False</td>\n",
       "      <td>False</td>\n",
       "    </tr>\n",
       "  </tbody>\n",
       "</table>\n",
       "<p>10682 rows × 32 columns</p>\n",
       "</div>"
      ],
      "text/plain": [
       "                       Route  Total_Stops  Additional_Info  Price  \\\n",
       "0                  BLR ? DEL            0                0   3897   \n",
       "1      CCU ? IXR ? BBI ? BLR            2                0   7662   \n",
       "2      DEL ? LKO ? BOM ? COK            2                0  13882   \n",
       "3            CCU ? NAG ? BLR            1                0   6218   \n",
       "4            BLR ? NAG ? DEL            1                0  13302   \n",
       "...                      ...          ...              ...    ...   \n",
       "10678              CCU ? BLR            0                0   4107   \n",
       "10679              CCU ? BLR            0                0   4145   \n",
       "10680              BLR ? DEL            0                0   7229   \n",
       "10681              BLR ? DEL            0                0  12648   \n",
       "10682  DEL ? GOI ? BOM ? COK            2                0  11753   \n",
       "\n",
       "       Journey_day  Journey_Month  Dept_Hour  Dept_Min  Arrival_Time_Hour  \\\n",
       "0               24              3         22        20                  1   \n",
       "1                1              5          5        50                 13   \n",
       "2                9              6          9        25                  4   \n",
       "3               12              5         18         5                 23   \n",
       "4                1              3         16        50                 21   \n",
       "...            ...            ...        ...       ...                ...   \n",
       "10678            9              4         19        55                 22   \n",
       "10679           27              4         20        45                 23   \n",
       "10680           27              4          8        20                 11   \n",
       "10681            1              3         11        30                 14   \n",
       "10682            9              5         10        55                 19   \n",
       "\n",
       "       Arrival_Time_Min  ...  Airline_Vistara Premium economy  Source_Chennai  \\\n",
       "0                    10  ...                            False           False   \n",
       "1                    15  ...                            False           False   \n",
       "2                    25  ...                            False           False   \n",
       "3                    30  ...                            False           False   \n",
       "4                    35  ...                            False           False   \n",
       "...                 ...  ...                              ...             ...   \n",
       "10678                25  ...                            False           False   \n",
       "10679                20  ...                            False           False   \n",
       "10680                20  ...                            False           False   \n",
       "10681                10  ...                            False           False   \n",
       "10682                15  ...                            False           False   \n",
       "\n",
       "       Source_Delhi  Source_Kolkata  Source_Mumbai  Destination_Cochin  \\\n",
       "0             False           False          False               False   \n",
       "1             False            True          False               False   \n",
       "2              True           False          False                True   \n",
       "3             False            True          False               False   \n",
       "4             False           False          False               False   \n",
       "...             ...             ...            ...                 ...   \n",
       "10678         False            True          False               False   \n",
       "10679         False            True          False               False   \n",
       "10680         False           False          False               False   \n",
       "10681         False           False          False               False   \n",
       "10682          True           False          False                True   \n",
       "\n",
       "       Destination_Delhi  Destination_Hyderabad  Destination_Kolkata  \\\n",
       "0                  False                  False                False   \n",
       "1                  False                  False                False   \n",
       "2                  False                  False                False   \n",
       "3                  False                  False                False   \n",
       "4                  False                  False                False   \n",
       "...                  ...                    ...                  ...   \n",
       "10678              False                  False                False   \n",
       "10679              False                  False                False   \n",
       "10680               True                  False                False   \n",
       "10681              False                  False                False   \n",
       "10682              False                  False                False   \n",
       "\n",
       "       Destination_New Delhi  \n",
       "0                       True  \n",
       "1                      False  \n",
       "2                      False  \n",
       "3                      False  \n",
       "4                       True  \n",
       "...                      ...  \n",
       "10678                  False  \n",
       "10679                  False  \n",
       "10680                  False  \n",
       "10681                   True  \n",
       "10682                  False  \n",
       "\n",
       "[10682 rows x 32 columns]"
      ]
     },
     "execution_count": 97,
     "metadata": {},
     "output_type": "execute_result"
    }
   ],
   "source": [
    "data"
   ]
  },
  {
   "cell_type": "markdown",
   "id": "03756b7d-af09-489c-b4eb-d160698ba3cd",
   "metadata": {},
   "source": [
    "**Removing the Route Feature**"
   ]
  },
  {
   "cell_type": "raw",
   "id": "594d81ce-389a-4866-bb65-cd4e3e0abaf6",
   "metadata": {},
   "source": [
    "1. The Route feature provides detailed information about the sequence of stops between the origin and destination.\n",
    "2. Since the number of stops in a route directly corresponds to the value in Total_Stops, the two features are essentially conveying the same information, albeit in different formats."
   ]
  },
  {
   "cell_type": "code",
   "execution_count": 99,
   "id": "7876ce3b-2199-477c-81a9-3ef08ecdd089",
   "metadata": {},
   "outputs": [],
   "source": [
    "data.drop('Route', axis=1, inplace=True)"
   ]
  },
  {
   "cell_type": "code",
   "execution_count": 101,
   "id": "acf0d4e7-363f-4ef0-9802-457529745cb2",
   "metadata": {},
   "outputs": [
    {
     "data": {
      "text/plain": [
       "222"
      ]
     },
     "execution_count": 101,
     "metadata": {},
     "output_type": "execute_result"
    }
   ],
   "source": [
    "## Removing Duplicates\n",
    "data.duplicated().sum()"
   ]
  },
  {
   "cell_type": "code",
   "execution_count": 103,
   "id": "f5925242-fde2-4404-9217-4a7577f25da4",
   "metadata": {},
   "outputs": [],
   "source": [
    "## Dropping duplicates\n",
    "data.drop_duplicates(inplace=True)"
   ]
  },
  {
   "cell_type": "code",
   "execution_count": 105,
   "id": "2240ba38-f1ef-47bc-bfaf-6f2be4778983",
   "metadata": {},
   "outputs": [],
   "source": [
    "## Creating another copy of cleaned data\n",
    "Final_data=data.copy()"
   ]
  },
  {
   "cell_type": "code",
   "execution_count": null,
   "id": "bbc43f28-c126-4e90-a3fe-5fd12dd979b5",
   "metadata": {},
   "outputs": [],
   "source": [
    "\n",
    "Final_data"
   ]
  },
  {
   "cell_type": "markdown",
   "id": "7f577359-d530-4087-a09c-d0c2c8c109df",
   "metadata": {},
   "source": [
    "## Outliers Handling"
   ]
  },
  {
   "cell_type": "raw",
   "id": "c86aaabd-f3aa-405b-b6fb-212d84b6d28e",
   "metadata": {},
   "source": [
    "1.We chose not to handle outliers in the price column because flight fares can naturally vary widely, reflecting legitimate high or low prices. Removing these outliers could distort the model's ability to predict future fares accurately.\n",
    "2.Outliers were observed in the Price column, with a few extremely high fares, likely corresponding to business-class or premium economic flights."
   ]
  },
  {
   "cell_type": "markdown",
   "id": "0e1c7be3-6819-4a2b-8cd8-c7f2728a553c",
   "metadata": {},
   "source": [
    "## Feature Selection"
   ]
  },
  {
   "cell_type": "code",
   "execution_count": 107,
   "id": "dd2e0e53-3b40-4bfe-8121-6781e3882450",
   "metadata": {},
   "outputs": [],
   "source": [
    "## Checking correlation\n",
    "corr_data=data.iloc[:,0:11]"
   ]
  },
  {
   "cell_type": "code",
   "execution_count": 109,
   "id": "b21bd8b0-11dd-4840-ade8-93e111017ec5",
   "metadata": {},
   "outputs": [
    {
     "data": {
      "image/png": "[encoded data removed]",
      "text/plain": [
       "<Figure size 640x480 with 2 Axes>"
      ]
     },
     "metadata": {},
     "output_type": "display_data"
    }
   ],
   "source": [
    "sns.heatmap(corr_data.corr(), annot=True)\n",
    "plt.rcParams['font.size']=(20)\n",
    "plt.show()"
   ]
  },
  {
   "cell_type": "raw",
   "id": "542ff307-d682-4293-ab6a-e71847b2ff0f",
   "metadata": {},
   "source": [
    "1. There is no relationship among the numerical data.\n",
    "2. There is no constant feature."
   ]
  },
  {
   "cell_type": "markdown",
   "id": "524240dc-dcbf-4f53-bd92-4411c5166119",
   "metadata": {},
   "source": [
    "# Model Creation"
   ]
  },
  {
   "cell_type": "code",
   "execution_count": 111,
   "id": "c7243e93-df67-420d-94a5-34c9c95ce943",
   "metadata": {},
   "outputs": [],
   "source": [
    "## Assigning Independent Variable(X) and Dependent Variable(Y)\n",
    "X=Final_data.drop('Price', axis=1)\n",
    "y=Final_data['Price']"
   ]
  },
  {
   "cell_type": "code",
   "execution_count": null,
   "id": "38c5bffd-512b-4d13-8c3c-e63ef9d059bd",
   "metadata": {},
   "outputs": [],
   "source": [
    "X"
   ]
  },
  {
   "cell_type": "code",
   "execution_count": null,
   "id": "65aceae6-eb05-485e-9b53-4cdbdbb89acd",
   "metadata": {},
   "outputs": [],
   "source": [
    "y"
   ]
  },
  {
   "cell_type": "markdown",
   "id": "ea90ac77-1f17-4597-b928-a825c0cfb161",
   "metadata": {},
   "source": [
    "### Splitting data"
   ]
  },
  {
   "cell_type": "code",
   "execution_count": 113,
   "id": "39524448-e83a-42e1-93fc-5c376c16e536",
   "metadata": {},
   "outputs": [],
   "source": [
    "from sklearn.model_selection import train_test_split\n",
    "X_train,X_test,y_train,y_test=train_test_split(X,y,test_size=0.3, random_state=25)"
   ]
  },
  {
   "cell_type": "markdown",
   "id": "373ba824-c53d-4de1-835e-1971940bcb20",
   "metadata": {},
   "source": [
    "## Creating model\n"
   ]
  },
  {
   "cell_type": "code",
   "execution_count": 115,
   "id": "09dcef3a-b49c-4663-80d8-0fa7c24ba6f8",
   "metadata": {},
   "outputs": [],
   "source": [
    "## Importing Machine Algorithms\n",
    "from sklearn.linear_model import LinearRegression\n",
    "from sklearn.svm import SVR\n",
    "from sklearn.neighbors import KNeighborsRegressor\n",
    "from sklearn.tree import DecisionTreeRegressor\n",
    "from sklearn.ensemble import RandomForestRegressor, BaggingRegressor, GradientBoostingRegressor\n",
    "from sklearn.metrics import r2_score, mean_absolute_error, mean_squared_error"
   ]
  },
  {
   "cell_type": "code",
   "execution_count": 117,
   "id": "f531dca7-11a7-48e1-a3e2-91febce10ccc",
   "metadata": {},
   "outputs": [],
   "source": [
    "def predict(Reg_model): ## Defining a function\n",
    "    print(f'Model Name : {Reg_model}') ## Object Creation\n",
    "    model = Reg_model.fit(X_train,y_train) ## Training the data\n",
    "    print(f'Training score : {model.score(X_train,y_train)}') ## Training data score\n",
    "    y_predict = model.predict(X_test) ## Predicting test data\n",
    "    print(f'predictions are : {y_predict}') ## predicted data\n",
    "    print('\\n')\n",
    "    r2score=r2_score(y_test,y_predict) \n",
    "    print(f'r2score is : {r2score}')\n",
    "    r2round=round(r2score,2)\n",
    "    num_row=X_test.shape[0]\n",
    "    num_col=X_test.shape[1]\n",
    "    adjusted_r2score=1-(((1-r2round)*(num_row-1))/(num_row-num_col-1))\n",
    "    print(f'adjusted r2score is : {adjusted_r2score}')\n",
    "    print(f'MAE : {mean_absolute_error(y_test,y_predict)}')\n",
    "    print(f'MSE : {mean_squared_error(y_test,y_predict)}')\n",
    "    print(f'RMSE : {np.sqrt(mean_squared_error(y_test,y_predict))}')\n",
    "\n",
    "    sns.distplot(y_test-y_predict)\n",
    "\n",
    "\n"
   ]
  },
  {
   "cell_type": "code",
   "execution_count": 119,
   "id": "964e7b2d-9ec5-4e67-919e-5d8bd08208f2",
   "metadata": {},
   "outputs": [
    {
     "name": "stdout",
     "output_type": "stream",
     "text": [
      "Model Name : LinearRegression()\n",
      "Training score : 0.6438646013498726\n",
      "predictions are : [ 6431.61325786 13809.53061461  9055.22578886 ...  3758.03661777\n",
      " 11156.212783    4182.94440201]\n",
      "\n",
      "\n",
      "r2score is : 0.6235227041515081\n",
      "adjusted r2score is : 0.6163308657869327\n",
      "MAE : 1924.3512465326605\n",
      "MSE : 7222040.889838384\n",
      "RMSE : 2687.3855119499294\n"
     ]
    },
    {
     "data": {
      "image/png": "[encoded data removed]",
      "text/plain": [
       "<Figure size 640x480 with 1 Axes>"
      ]
     },
     "metadata": {},
     "output_type": "display_data"
    }
   ],
   "source": [
    "## Linear Regression Model\n",
    "predict(LinearRegression())"
   ]
  },
  {
   "cell_type": "code",
   "execution_count": 121,
   "id": "22e738c2-c3cc-43af-a735-e29d5710be29",
   "metadata": {},
   "outputs": [
    {
     "name": "stdout",
     "output_type": "stream",
     "text": [
      "Model Name : SVR()\n",
      "Training score : -0.0038992142925537987\n",
      "predictions are : [8092.37393897 8428.0394842  8103.89522704 ... 8181.19303156 8327.27711737\n",
      " 8067.76507701]\n",
      "\n",
      "\n",
      "r2score is : 0.003656623389448499\n",
      "adjusted r2score is : -0.009655616350177088\n",
      "MAE : 3539.34231794869\n",
      "MSE : 19113058.57099237\n",
      "RMSE : 4371.848415829667\n"
     ]
    },
    {
     "data": {
      "image/png": "[encoded data removed]",
      "text/plain": [
       "<Figure size 640x480 with 1 Axes>"
      ]
     },
     "metadata": {},
     "output_type": "display_data"
    }
   ],
   "source": [
    "## Support Vector Machine - Regressor Model\n",
    "predict(SVR())"
   ]
  },
  {
   "cell_type": "code",
   "execution_count": 123,
   "id": "05587044-6cc0-4e21-87b4-25c47d7f7fa2",
   "metadata": {},
   "outputs": [
    {
     "name": "stdout",
     "output_type": "stream",
     "text": [
      "Model Name : KNeighborsRegressor()\n",
      "Training score : 0.7338221033909226\n",
      "predictions are : [ 5120.4 13176.2  5607.  ...  4856.4 13202.2  5537.8]\n",
      "\n",
      "\n",
      "r2score is : 0.5933780562173638\n",
      "adjusted r2score is : 0.5860411972964275\n",
      "MAE : 1844.3497131931167\n",
      "MSE : 7800311.830452518\n",
      "RMSE : 2792.903834802143\n"
     ]
    },
    {
     "data": {
      "image/png": "[encoded data removed]",
      "text/plain": [
       "<Figure size 640x480 with 1 Axes>"
      ]
     },
     "metadata": {},
     "output_type": "display_data"
    }
   ],
   "source": [
    "## KNN Model\n",
    "predict(KNeighborsRegressor())"
   ]
  },
  {
   "cell_type": "code",
   "execution_count": 125,
   "id": "196390e1-dc2f-463c-bb9b-66aa4a50feda",
   "metadata": {},
   "outputs": [
    {
     "name": "stdout",
     "output_type": "stream",
     "text": [
      "Model Name : DecisionTreeRegressor()\n",
      "Training score : 0.9965469691221183\n",
      "predictions are : [ 4544. 10493.  7229. ...  4990. 10262.  7120.]\n",
      "\n",
      "\n",
      "r2score is : 0.7992653951540689\n",
      "adjusted r2score is : 0.7980688767299646\n",
      "MAE : 843.6589653707243\n",
      "MSE : 3850732.939779407\n",
      "RMSE : 1962.328448496685\n"
     ]
    },
    {
     "data": {
      "image/png": "[encoded data removed]",
      "text/plain": [
       "<Figure size 640x480 with 1 Axes>"
      ]
     },
     "metadata": {},
     "output_type": "display_data"
    }
   ],
   "source": [
    "## Decision Tree Model\n",
    "predict(DecisionTreeRegressor())"
   ]
  },
  {
   "cell_type": "code",
   "execution_count": 145,
   "id": "32956c02-b81e-4c5c-a939-ead553bb3aa0",
   "metadata": {},
   "outputs": [
    {
     "name": "stdout",
     "output_type": "stream",
     "text": [
      "Model Name : RandomForestRegressor()\n",
      "Training score : 0.9817706790483617\n",
      "predictions are : [ 4210.34 11191.52  7291.42 ...  4894.81 10280.9   5283.56]\n",
      "\n",
      "\n",
      "r2score is : 0.8810146229736748\n",
      "adjusted r2score is : 0.8788413260379788\n",
      "MAE : 719.0292536268172\n",
      "MSE : 2282520.7991367886\n",
      "RMSE : 1510.8013764677303\n"
     ]
    },
    {
     "data": {
      "image/png": "[encoded data removed]",
      "text/plain": [
       "<Figure size 640x480 with 1 Axes>"
      ]
     },
     "metadata": {},
     "output_type": "display_data"
    }
   ],
   "source": [
    "## Randon Forest Regressor Model\n",
    "predict(RandomForestRegressor())"
   ]
  },
  {
   "cell_type": "code",
   "execution_count": 129,
   "id": "13f90564-9a6c-4fe4-bf8e-d873db1b82a3",
   "metadata": {},
   "outputs": [
    {
     "name": "stdout",
     "output_type": "stream",
     "text": [
      "Model Name : BaggingRegressor()\n",
      "Training score : 0.9776556928422546\n",
      "predictions are : [ 4235.6 11353.7  7229.  ...  4889.8 10262.   4990.3]\n",
      "\n",
      "\n",
      "r2score is : 0.8701257229105965\n",
      "adjusted r2score is : 0.868744769874477\n",
      "MAE : 745.0804828674619\n",
      "MSE : 2491404.7939170827\n",
      "RMSE : 1578.4184470276198\n"
     ]
    },
    {
     "data": {
      "image/png": "[encoded data removed]",
      "text/plain": [
       "<Figure size 640x480 with 1 Axes>"
      ]
     },
     "metadata": {},
     "output_type": "display_data"
    }
   ],
   "source": [
    "## Bagging Regressor Model\n",
    "predict(BaggingRegressor())"
   ]
  },
  {
   "cell_type": "code",
   "execution_count": 131,
   "id": "eca3f977-d3f7-485c-90a6-f3ae4f94881a",
   "metadata": {},
   "outputs": [
    {
     "name": "stdout",
     "output_type": "stream",
     "text": [
      "Model Name : GradientBoostingRegressor()\n",
      "Training score : 0.8376345809946503\n",
      "predictions are : [ 5603.18733215 11183.52703214  7456.98674032 ...  4781.87895108\n",
      " 10699.04315293  5034.79223944]\n",
      "\n",
      "\n",
      "r2score is : 0.8101937735124797\n",
      "adjusted r2score is : 0.8081654328934664\n",
      "MAE : 1270.9547092283422\n",
      "MSE : 3641091.6247933647\n",
      "RMSE : 1908.1644648177905\n"
     ]
    },
    {
     "data": {
      "image/png": "[encoded data removed]",
      "text/plain": [
       "<Figure size 640x480 with 1 Axes>"
      ]
     },
     "metadata": {},
     "output_type": "display_data"
    }
   ],
   "source": [
    "## GradientBoosting Regressor Model\n",
    "predict(GradientBoostingRegressor())"
   ]
  },
  {
   "cell_type": "markdown",
   "id": "93b1a359-a434-46b8-a3ff-6303f7b1aa35",
   "metadata": {},
   "source": [
    "## HyperParameter Tuning"
   ]
  },
  {
   "cell_type": "markdown",
   "id": "79008281-7c78-4916-a0b1-0a8288fffbfd",
   "metadata": {},
   "source": [
    "#### Random Forest"
   ]
  },
  {
   "cell_type": "code",
   "execution_count": 133,
   "id": "7be2afcc-2984-4a47-8392-31e6ec4aeadd",
   "metadata": {},
   "outputs": [],
   "source": [
    "from sklearn.model_selection import RandomizedSearchCV"
   ]
  },
  {
   "cell_type": "code",
   "execution_count": 135,
   "id": "036864cb-9805-419e-b5e6-a17f4500495a",
   "metadata": {},
   "outputs": [],
   "source": [
    "Random_grid={'n_estimators':[100,120,150,180,200,240],'max_features':['auto','sqrt'],'max_depth':[5,10,15,20],'min_samples_split': [2, 5, 10],   # Minimum number of samples required to split a node\n",
    "    'min_samples_leaf': [1, 2, 4,6],\n",
    "    'bootstrap': [True, False]}"
   ]
  },
  {
   "cell_type": "code",
   "execution_count": 137,
   "id": "f3feb06a-097a-485d-bd4f-8837ca500cf7",
   "metadata": {},
   "outputs": [],
   "source": [
    "RF=RandomForestRegressor(random_state=42)\n",
    "RF_random=RandomizedSearchCV(estimator=RF,param_distributions=Random_grid,n_iter=100,cv=5,verbose=3,n_jobs=-1,random_state=42)"
   ]
  },
  {
   "cell_type": "code",
   "execution_count": 139,
   "id": "a6cbfae7-feca-463c-97a1-794460c2e177",
   "metadata": {},
   "outputs": [
    {
     "name": "stdout",
     "output_type": "stream",
     "text": [
      "Fitting 5 folds for each of 100 candidates, totalling 500 fits\n"
     ]
    },
    {
     "data": {
      "text/html": [
       "<style>#sk-container-id-1 {color: black;}#sk-container-id-1 pre{padding: 0;}#sk-container-id-1 div.sk-toggleable {background-color: white;}#sk-container-id-1 label.sk-toggleable__label {cursor: pointer;display: block;width: 100%;margin-bottom: 0;padding: 0.3em;box-sizing: border-box;text-align: center;}#sk-container-id-1 label.sk-toggleable__label-arrow:before {content: \"▸\";float: left;margin-right: 0.25em;color: #696969;}#sk-container-id-1 label.sk-toggleable__label-arrow:hover:before {color: black;}#sk-container-id-1 div.sk-estimator:hover label.sk-toggleable__label-arrow:before {color: black;}#sk-container-id-1 div.sk-toggleable__content {max-height: 0;max-width: 0;overflow: hidden;text-align: left;background-color: #f0f8ff;}#sk-container-id-1 div.sk-toggleable__content pre {margin: 0.2em;color: black;border-radius: 0.25em;background-color: #f0f8ff;}#sk-container-id-1 input.sk-toggleable__control:checked~div.sk-toggleable__content {max-height: 200px;max-width: 100%;overflow: auto;}#sk-container-id-1 input.sk-toggleable__control:checked~label.sk-toggleable__label-arrow:before {content: \"▾\";}#sk-container-id-1 div.sk-estimator input.sk-toggleable__control:checked~label.sk-toggleable__label {background-color: #d4ebff;}#sk-container-id-1 div.sk-label input.sk-toggleable__control:checked~label.sk-toggleable__label {background-color: #d4ebff;}#sk-container-id-1 input.sk-hidden--visually {border: 0;clip: rect(1px 1px 1px 1px);clip: rect(1px, 1px, 1px, 1px);height: 1px;margin: -1px;overflow: hidden;padding: 0;position: absolute;width: 1px;}#sk-container-id-1 div.sk-estimator {font-family: monospace;background-color: #f0f8ff;border: 1px dotted black;border-radius: 0.25em;box-sizing: border-box;margin-bottom: 0.5em;}#sk-container-id-1 div.sk-estimator:hover {background-color: #d4ebff;}#sk-container-id-1 div.sk-parallel-item::after {content: \"\";width: 100%;border-bottom: 1px solid gray;flex-grow: 1;}#sk-container-id-1 div.sk-label:hover label.sk-toggleable__label {background-color: #d4ebff;}#sk-container-id-1 div.sk-serial::before {content: \"\";position: absolute;border-left: 1px solid gray;box-sizing: border-box;top: 0;bottom: 0;left: 50%;z-index: 0;}#sk-container-id-1 div.sk-serial {display: flex;flex-direction: column;align-items: center;background-color: white;padding-right: 0.2em;padding-left: 0.2em;position: relative;}#sk-container-id-1 div.sk-item {position: relative;z-index: 1;}#sk-container-id-1 div.sk-parallel {display: flex;align-items: stretch;justify-content: center;background-color: white;position: relative;}#sk-container-id-1 div.sk-item::before, #sk-container-id-1 div.sk-parallel-item::before {content: \"\";position: absolute;border-left: 1px solid gray;box-sizing: border-box;top: 0;bottom: 0;left: 50%;z-index: -1;}#sk-container-id-1 div.sk-parallel-item {display: flex;flex-direction: column;z-index: 1;position: relative;background-color: white;}#sk-container-id-1 div.sk-parallel-item:first-child::after {align-self: flex-end;width: 50%;}#sk-container-id-1 div.sk-parallel-item:last-child::after {align-self: flex-start;width: 50%;}#sk-container-id-1 div.sk-parallel-item:only-child::after {width: 0;}#sk-container-id-1 div.sk-dashed-wrapped {border: 1px dashed gray;margin: 0 0.4em 0.5em 0.4em;box-sizing: border-box;padding-bottom: 0.4em;background-color: white;}#sk-container-id-1 div.sk-label label {font-family: monospace;font-weight: bold;display: inline-block;line-height: 1.2em;}#sk-container-id-1 div.sk-label-container {text-align: center;}#sk-container-id-1 div.sk-container {/* jupyter's `normalize.less` sets `[hidden] { display: none; }` but bootstrap.min.css set `[hidden] { display: none !important; }` so we also need the `!important` here to be able to override the default hidden behavior on the sphinx rendered scikit-learn.org. See: https://github.com/scikit-learn/scikit-learn/issues/21755 */display: inline-block !important;position: relative;}#sk-container-id-1 div.sk-text-repr-fallback {display: none;}</style><div id=\"sk-container-id-1\" class=\"sk-top-container\"><div class=\"sk-text-repr-fallback\"><pre>RandomizedSearchCV(cv=5, estimator=RandomForestRegressor(random_state=42),\n",
       "                   n_iter=100, n_jobs=-1,\n",
       "                   param_distributions={&#x27;bootstrap&#x27;: [True, False],\n",
       "                                        &#x27;max_depth&#x27;: [5, 10, 15, 20],\n",
       "                                        &#x27;max_features&#x27;: [&#x27;auto&#x27;, &#x27;sqrt&#x27;],\n",
       "                                        &#x27;min_samples_leaf&#x27;: [1, 2, 4, 6],\n",
       "                                        &#x27;min_samples_split&#x27;: [2, 5, 10],\n",
       "                                        &#x27;n_estimators&#x27;: [100, 120, 150, 180,\n",
       "                                                         200, 240]},\n",
       "                   random_state=42, verbose=3)</pre><b>In a Jupyter environment, please rerun this cell to show the HTML representation or trust the notebook. <br />On GitHub, the HTML representation is unable to render, please try loading this page with nbviewer.org.</b></div><div class=\"sk-container\" hidden><div class=\"sk-item sk-dashed-wrapped\"><div class=\"sk-label-container\"><div class=\"sk-label sk-toggleable\"><input class=\"sk-toggleable__control sk-hidden--visually\" id=\"sk-estimator-id-1\" type=\"checkbox\" ><label for=\"sk-estimator-id-1\" class=\"sk-toggleable__label sk-toggleable__label-arrow\">RandomizedSearchCV</label><div class=\"sk-toggleable__content\"><pre>RandomizedSearchCV(cv=5, estimator=RandomForestRegressor(random_state=42),\n",
       "                   n_iter=100, n_jobs=-1,\n",
       "                   param_distributions={&#x27;bootstrap&#x27;: [True, False],\n",
       "                                        &#x27;max_depth&#x27;: [5, 10, 15, 20],\n",
       "                                        &#x27;max_features&#x27;: [&#x27;auto&#x27;, &#x27;sqrt&#x27;],\n",
       "                                        &#x27;min_samples_leaf&#x27;: [1, 2, 4, 6],\n",
       "                                        &#x27;min_samples_split&#x27;: [2, 5, 10],\n",
       "                                        &#x27;n_estimators&#x27;: [100, 120, 150, 180,\n",
       "                                                         200, 240]},\n",
       "                   random_state=42, verbose=3)</pre></div></div></div><div class=\"sk-parallel\"><div class=\"sk-parallel-item\"><div class=\"sk-item\"><div class=\"sk-label-container\"><div class=\"sk-label sk-toggleable\"><input class=\"sk-toggleable__control sk-hidden--visually\" id=\"sk-estimator-id-2\" type=\"checkbox\" ><label for=\"sk-estimator-id-2\" class=\"sk-toggleable__label sk-toggleable__label-arrow\">estimator: RandomForestRegressor</label><div class=\"sk-toggleable__content\"><pre>RandomForestRegressor(random_state=42)</pre></div></div></div><div class=\"sk-serial\"><div class=\"sk-item\"><div class=\"sk-estimator sk-toggleable\"><input class=\"sk-toggleable__control sk-hidden--visually\" id=\"sk-estimator-id-3\" type=\"checkbox\" ><label for=\"sk-estimator-id-3\" class=\"sk-toggleable__label sk-toggleable__label-arrow\">RandomForestRegressor</label><div class=\"sk-toggleable__content\"><pre>RandomForestRegressor(random_state=42)</pre></div></div></div></div></div></div></div></div></div></div>"
      ],
      "text/plain": [
       "RandomizedSearchCV(cv=5, estimator=RandomForestRegressor(random_state=42),\n",
       "                   n_iter=100, n_jobs=-1,\n",
       "                   param_distributions={'bootstrap': [True, False],\n",
       "                                        'max_depth': [5, 10, 15, 20],\n",
       "                                        'max_features': ['auto', 'sqrt'],\n",
       "                                        'min_samples_leaf': [1, 2, 4, 6],\n",
       "                                        'min_samples_split': [2, 5, 10],\n",
       "                                        'n_estimators': [100, 120, 150, 180,\n",
       "                                                         200, 240]},\n",
       "                   random_state=42, verbose=3)"
      ]
     },
     "execution_count": 139,
     "metadata": {},
     "output_type": "execute_result"
    }
   ],
   "source": [
    "## Training data on randomsearch cv\n",
    "RF_random.fit(X_train,y_train)"
   ]
  },
  {
   "cell_type": "code",
   "execution_count": 141,
   "id": "b2bc9766-d007-4452-8873-ec77e2c21d3b",
   "metadata": {},
   "outputs": [
    {
     "data": {
      "text/plain": [
       "{'n_estimators': 120,\n",
       " 'min_samples_split': 2,\n",
       " 'min_samples_leaf': 1,\n",
       " 'max_features': 'sqrt',\n",
       " 'max_depth': 15,\n",
       " 'bootstrap': False}"
      ]
     },
     "execution_count": 141,
     "metadata": {},
     "output_type": "execute_result"
    }
   ],
   "source": [
    "## Best Params\n",
    "RF_random.best_params_ "
   ]
  },
  {
   "cell_type": "code",
   "execution_count": 143,
   "id": "8b15e556-78c6-4845-b0e1-874514fc1e2f",
   "metadata": {},
   "outputs": [
    {
     "name": "stdout",
     "output_type": "stream",
     "text": [
      "Model Name : RandomForestRegressor(bootstrap=False, max_depth=20, max_features='sqrt',\n",
      "                      n_estimators=120, random_state=42)\n",
      "Training score : 0.9938894935450745\n",
      "predictions are : [ 4147.36333333 10763.57410797  6863.26666667 ...  4926.5985844\n",
      " 10655.88052832  5062.9231456 ]\n",
      "\n",
      "\n",
      "r2score is : 0.8756142580936952\n",
      "adjusted r2score is : 0.8788413260379788\n",
      "MAE : 816.3486910899923\n",
      "MSE : 2386117.1020568884\n",
      "RMSE : 1544.7061539519057\n"
     ]
    },
    {
     "data": {
      "image/png": "[encoded data removed]",
      "text/plain": [
       "<Figure size 640x480 with 1 Axes>"
      ]
     },
     "metadata": {},
     "output_type": "display_data"
    }
   ],
   "source": [
    "predict(RandomForestRegressor(n_estimators=120,max_features='sqrt',min_samples_leaf=1,min_samples_split=2,max_depth=20,bootstrap=False,random_state=42))"
   ]
  },
  {
   "cell_type": "markdown",
   "id": "8a5d6492-3202-4fa1-8cb6-c065042969c9",
   "metadata": {},
   "source": [
    "**Model Tuning Summary for Random Forest Regression**\n",
    "\n",
    "After creating multiple regression models, the Random Forest model achieved an R² score of 0.8823. The model was then tuned to explore if performance could be improved by adjusting hyperparameters such as n_estimators, max_depth, min_samples_split, and others.\n",
    "\n",
    "**Hyperparameter Tuning**\n",
    "\n",
    "Before tuning, the model achieved an R² score of 0.8823.\n",
    "After tuning, the R² score remained at 0.8756, indicating that the model had already reached optimal performance with the initial hyperparameters.\n",
    "\n",
    "**Performance Insights**\n",
    "\n",
    "The unchanged R² score suggests that the original hyperparameters were either near optimal or that the model may have reached its performance limit    given the dataset.\n",
    "The result could also imply that further improvements in model performance may require additional feature engineering, more data, or trying   alternative model architectures rather than hyperparameter adjustments.\n",
    "\n",
    "**Conclusion**\n",
    "\n",
    "Despite hyperparameter tuning, the Random Forest regression model maintained a strong performance with an R² score of 0.8756. The current model appears  to be well-tuned with an R² score of 0.8823."
   ]
  },
  {
   "cell_type": "markdown",
   "id": "731d2865-b634-483a-a70d-dddeaea1c5df",
   "metadata": {},
   "source": [
    "## **Data Analysis Report**"
   ]
  },
  {
   "cell_type": "markdown",
   "id": "8028890e-1ae2-4519-850b-ee20cdbc34af",
   "metadata": {},
   "source": [
    "#### **1. Introduction**\n",
    " \n",
    "   The purpose of the analysis is to understand various factors influencing flight fares and to develop a predictive model.\n",
    "\n",
    "#### **2. Dataset Overview**\n",
    " - Number of rows: 10683\n",
    " - Number of columns: 11\n",
    " - Target Variable: Price (Flight Fare)\n",
    " - Features: Airline, Source, Destination, Total_Stops, Duration, Date_of_Journey, Dep_Time, Arrival_Time, Route, Additional_Info.\n",
    "\n",
    "#### **3. Data Preprocessing and feature engineering**\n",
    "   \n",
    " - **Handling Missing Values**: As there were only 2 missing values, we directly dropped them, as they are very less.\n",
    " - **Outlier Treatment**: We chose not to handle outliers in the price column because flight fares can naturally vary widely, reflecting legitimate high       or low prices. Removing these outliers could distort the model's ability to predict future fares accurately.Outliers were observed                      in the Price column, with a few extremely high fares, likely corresponding to business-class or premium economic flights.\n",
    " - **Handling Categorical data**: In this dataset features Duration, Date_of_Journey, Dep_Time, Arrival_Time are in object, so have formatted them to date and time by splitting and converting Date_of_Journey into Day and Month, Dep_Time, Arrival_Time into Hour and Minutes and Duration into Hour and minutes. And categorical features Airline, Source, Destination, Total_Stops, Additional_Info was encoded to numerical features.\n",
    "   \n",
    "#### **4. Exploratory Data Analysis (EDA)** \n",
    "\n",
    " - **Airline vs Price**: There are slight differences between each companies on this graph, AirAsia seems to have the cheapest flights when Jet Airways, Multiple camers and Air India are more expensive. However it looks like Jet Airways Business Class are a little more expensive than the Jet Airways Economic Class.\n",
    " - **Total_stops vs Price**: The majority of flights are 1 stop and followed by 2 stops and non-stop. Non-stop flights tend to be cheaper, prices are highest for 1-stop flights, followed by 2-stop flights, with non-stop flights generally being the most affordable.\n",
    " - **Source vs Price**: Flights departing from Bangalore tend to have the highest prices, followed by other cities, while Chennai appears to offer more affordable options. Among the sources, Delhi has the highest frequency, followed by Kolkata and Bangalore.\n",
    " - **Destination vs Price**: New Delhi has the highest flight prices, followed by Cochin, while flights to Delhi are more affordable. In terms of destination frequency, Cochin has the most flights, followed by Bangalore and Delhi."
   ]
  },
  {
   "cell_type": "markdown",
   "id": "3b21e92f-3f5a-491f-b91a-d6c62c9a275c",
   "metadata": {},
   "source": [
    "## **Performance Report for Flight Price Prediction Models**"
   ]
  },
  {
   "cell_type": "markdown",
   "id": "34593450-95f8-47fa-886c-58a81b7ad7f0",
   "metadata": {},
   "source": [
    "**Overview of Models Evaluated**\n",
    "\n",
    "#### Linear Regression\n",
    "\n",
    "Performance Metrics:\n",
    "- R² Score: 0.6235227041515081\n",
    "- Adjusted R² Score: 0.6163308657869327\n",
    "- Mean Absolute Error (MAE): 1924.3512465326605\n",
    "- Mean Squared Error (MSE): 7222040.889838384\n",
    "- Root Mean Squared Error (RMSE): 2687.3855119499294\n",
    "  \n",
    "#### Support Vector Regressor (SVR)\n",
    "\n",
    "Performance Metrics:\n",
    "- R² Score: 0.003656623389448499\n",
    "- Adjusted R² Score: -0.009655616350177088\n",
    "- Mean Absolute Error (MAE): 3539.34231794869\n",
    "- Mean Squared Error (MSE): 19113058.57099237\n",
    "- Root Mean Squared Error (RMSE): 4371.848415829667\n",
    "\n",
    "\n",
    "#### K-Nearest Neighbors\n",
    "\n",
    "Performance Metrics:\n",
    "- R² Score: 0.5933780562173638\n",
    "- Adjusted R² Score: 0.5860411972964275\n",
    "- Mean Absolute Error (MAE): 1844.3497131931167\n",
    "- Mean Squared Error (MSE): 7800311.830452518\n",
    "- Root Mean Squared Error (RMSE): 2792.903834802143\n",
    "\n",
    "\n",
    "#### Decision Tree Regressor\n",
    "\n",
    "Performance Metrics:\n",
    "- R² Score: 0.7724088369351185\n",
    "- Adjusted R² Score: 0.7677792082394592\n",
    "- Mean Absolute Error (MAE): 853.5510941151475\n",
    "- Mean Squared Error (MSE): 4365927.783549324\n",
    "- Root Mean Squared Error (RMSE): 2089.480266369923\n",
    "\n",
    "#### Bagging Regressor\n",
    "\n",
    "Performance Metrics:\n",
    "- R² Score: 0.8670944853556191\n",
    "- Adjusted R² Score: 0.868744769874477\n",
    "- Mean Absolute Error (MAE): 743.6650573613767\n",
    "- Mean Squared Error (MSE): 2549553.6432906473\n",
    "- Root Mean Squared Error (RMSE): 1596.7321764437038\n",
    "\n",
    "#### Gradient Boosting Regressor:\n",
    "\n",
    "Performance Metrics:\n",
    "- R² Score: 0.8091062864831604\n",
    "- Adjusted R² Score: 0.7677792082394592\n",
    "- Mean Absolute Error (MAE): 1271.7271587588857\n",
    "- Mean Squared Error (MSE): 3661953.1106771575\n",
    "- Root Mean Squared Error (RMSE): 1913.6230325425008\n",
    "\n",
    "\n",
    "#### Random Forest Regressor:\n",
    "\n",
    "Performance Metrics:\n",
    "- R² Score: 0.8823998882757239\n",
    "- Adjusted R² Score: 0.8788413260379788\n",
    "- Mean Absolute Error (MAE):  717.0869156309751\n",
    "- Mean Squared Error (MSE): 2322088.557425377\n",
    "- Root Mean Squared Error (RMSE): 1523.8400695038101\n",
    "\n",
    "## Model Performance Comparison\n",
    "\n",
    "#### Best Model: Random Forest Regressor\n",
    "\n",
    "The Random Forest Regressor exhibited the highest accuracy and lowest error metrics compared to other models. It achieved the highest R² score - 0.8823998882757239, indicating that it explains the most variance in the target variable, and had the lowest MAE - 717.0869156309751, MSE - 2322088.557425377, and RMSE - 1523.8400695038101, suggesting it provides the most reliable predictions.\n",
    "\n",
    "## Conclusion\n",
    "\n",
    "The Random Forest Regressor has demonstrated the best performance among the evaluated models and is recommended for use in production to predict future flight prices. Its accuracy and robustness make it well-suited for helping customers plan their journeys and make informed decisions.\n",
    "\n"
   ]
  },
  {
   "cell_type": "markdown",
   "id": "ded78322-0db0-4a45-a301-a618360396ce",
   "metadata": {},
   "source": [
    "## Report on Challenges faced"
   ]
  },
  {
   "cell_type": "markdown",
   "id": "00fcf84e-06bb-4a39-818c-86f05b12c3e4",
   "metadata": {},
   "source": [
    "**Summary of Challenges Faced While working on project**\n",
    "\n",
    "When working with time and date features (Duration, Date_of_Journey, Dep_Time, Arrival_Time) were stored as object (string) types, which presents several challenges when attempting to convert them into a usable datetime format. Below is a summary of the common challenges encountered during the conversion process and hyperparameter tuning:\n",
    "\n",
    "**1. Separating Date and Time**\n",
    " - Problem: In this date and time are stored in a single string, which can make conversion to separate date and time objects difficult.Directly converting combined date-time strings might not provide the needed granularity for feature engineering.\n",
    " - Solution: Split the date and time components, converting them separately into datetime or time objects, and create additional features like day, month, hour and minutes. Used Python's pd.to_datetime() with the format parameter or regular expressions to ensure proper format parsing.\n",
    "\n",
    "**2. Feature Redundancy**\n",
    " - Problem: Some features in the dataset had redundant information. Route directly corresponds to the value in Total_Stops, the two features are essentially conveying the same information, albeit in different formats.\n",
    " - Solution: Redundant features can lead to overfitting, making the model more complex without improving performance. Proper feature selection or dimensionality reduction methods are needed to avoid this, so we dropped the Route feature.\n",
    "\n",
    "**3. Hyperparameter tuning**\n",
    "Computational Cost and Time-Consumption\n",
    " - Problem: Hyperparameter tuning Random Search method was computationally expensive and time-consuming. It  took a long time to evaluate all possible parameter combinations, which lead to delays in the model development cycle.\n",
    " - Solution: As mentioned in the model tuning report that after creating multiple regression models, the Random Forest model achieved an R² score of 0.8823. The model was then tuned to explore if performance could be improved by adjusting hyperparameters such as n_estimators, max_depth, min_samples_split, and others, Before tuning, the model achieved an R² score of 0.8823. After tuning, the R² score remained at 0.8756, indicating that the model had already reached optimal performance with the initial hyperparameters.\n"
   ]
  },
  {
   "cell_type": "code",
   "execution_count": null,
   "id": "b6f3893a-32b5-40d6-85cf-a42964186d70",
   "metadata": {},
   "outputs": [],
   "source": []
  }
 ],
 "metadata": {
  "kernelspec": {
   "display_name": "Python 3 (ipykernel)",
   "language": "python",
   "name": "python3"
  },
  "language_info": {
   "codemirror_mode": {
    "name": "ipython",
    "version": 3
   },
   "file_extension": ".py",
   "mimetype": "text/x-python",
   "name": "python",
   "nbconvert_exporter": "python",
   "pygments_lexer": "ipython3",
   "version": "3.11.5"
  }
 },
 "nbformat": 4,
 "nbformat_minor": 5
}
